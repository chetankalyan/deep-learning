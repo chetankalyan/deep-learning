{
 "cells": [
  {
   "cell_type": "markdown",
   "metadata": {
    "collapsed": true
   },
   "source": [
    "# Image Classification\n",
    "In this project, you'll classify images from the [CIFAR-10 dataset](https://www.cs.toronto.edu/~kriz/cifar.html).  The dataset consists of airplanes, dogs, cats, and other objects. You'll preprocess the images, then train a convolutional neural network on all the samples. The images need to be normalized and the labels need to be one-hot encoded.  You'll get to apply what you learned and build a convolutional, max pooling, dropout, and fully connected layers.  At the end, you'll get to see your neural network's predictions on the sample images.\n",
    "## Get the Data\n",
    "Run the following cell to download the [CIFAR-10 dataset for python](https://www.cs.toronto.edu/~kriz/cifar-10-python.tar.gz)."
   ]
  },
  {
   "cell_type": "code",
   "execution_count": 2,
   "metadata": {},
   "outputs": [
    {
     "name": "stderr",
     "output_type": "stream",
     "text": [
      "/home/chetan/workspace/apps/miniconda3/envs/tensorflow-gpu/lib/python3.6/importlib/_bootstrap.py:219: RuntimeWarning: compiletime version 3.5 of module 'tensorflow.python.framework.fast_tensor_util' does not match runtime version 3.6\n",
      "  return f(*args, **kwds)\n",
      "CIFAR-10 Dataset: 171MB [03:10, 894KB/s]                               \n"
     ]
    },
    {
     "name": "stdout",
     "output_type": "stream",
     "text": [
      "All files found!\n"
     ]
    }
   ],
   "source": [
    "\"\"\"\n",
    "DON'T MODIFY ANYTHING IN THIS CELL THAT IS BELOW THIS LINE\n",
    "\"\"\"\n",
    "from urllib.request import urlretrieve\n",
    "from os.path import isfile, isdir\n",
    "from tqdm import tqdm\n",
    "import problem_unittests as tests\n",
    "import tarfile\n",
    "\n",
    "cifar10_dataset_folder_path = 'cifar-10-batches-py'\n",
    "\n",
    "# Use Floyd's cifar-10 dataset if present\n",
    "floyd_cifar10_location = '/cifar/cifar-10-python.tar.gz'\n",
    "if isfile(floyd_cifar10_location):\n",
    "    tar_gz_path = floyd_cifar10_location\n",
    "else:\n",
    "    tar_gz_path = 'cifar-10-python.tar.gz'\n",
    "\n",
    "class DLProgress(tqdm):\n",
    "    last_block = 0\n",
    "\n",
    "    def hook(self, block_num=1, block_size=1, total_size=None):\n",
    "        self.total = total_size\n",
    "        self.update((block_num - self.last_block) * block_size)\n",
    "        self.last_block = block_num\n",
    "\n",
    "if not isfile(tar_gz_path):\n",
    "    with DLProgress(unit='B', unit_scale=True, miniters=1, desc='CIFAR-10 Dataset') as pbar:\n",
    "        urlretrieve(\n",
    "            'https://www.cs.toronto.edu/~kriz/cifar-10-python.tar.gz',\n",
    "            tar_gz_path,\n",
    "            pbar.hook)\n",
    "\n",
    "if not isdir(cifar10_dataset_folder_path):\n",
    "    with tarfile.open(tar_gz_path) as tar:\n",
    "        tar.extractall()\n",
    "        tar.close()\n",
    "\n",
    "\n",
    "tests.test_folder_path(cifar10_dataset_folder_path)"
   ]
  },
  {
   "cell_type": "markdown",
   "metadata": {},
   "source": [
    "## Explore the Data\n",
    "The dataset is broken into batches to prevent your machine from running out of memory.  The CIFAR-10 dataset consists of 5 batches, named `data_batch_1`, `data_batch_2`, etc.. Each batch contains the labels and images that are one of the following:\n",
    "* airplane\n",
    "* automobile\n",
    "* bird\n",
    "* cat\n",
    "* deer\n",
    "* dog\n",
    "* frog\n",
    "* horse\n",
    "* ship\n",
    "* truck\n",
    "\n",
    "Understanding a dataset is part of making predictions on the data.  Play around with the code cell below by changing the `batch_id` and `sample_id`. The `batch_id` is the id for a batch (1-5). The `sample_id` is the id for a image and label pair in the batch.\n",
    "\n",
    "Ask yourself \"What are all possible labels?\", \"What is the range of values for the image data?\", \"Are the labels in order or random?\".  Answers to questions like these will help you preprocess the data and end up with better predictions."
   ]
  },
  {
   "cell_type": "code",
   "execution_count": 6,
   "metadata": {},
   "outputs": [
    {
     "name": "stdout",
     "output_type": "stream",
     "text": [
      "\n",
      "Stats of batch 4:\n",
      "Samples: 10000\n",
      "Label Counts: {0: 1003, 1: 963, 2: 1041, 3: 976, 4: 1004, 5: 1021, 6: 1004, 7: 981, 8: 1024, 9: 983}\n",
      "First 20 Labels: [0, 6, 0, 2, 7, 2, 1, 2, 4, 1, 5, 6, 6, 3, 1, 3, 5, 5, 8, 1]\n",
      "\n",
      "Example of Image 5:\n",
      "Image - Min Value: 13 Max Value: 169\n",
      "Image - Shape: (32, 32, 3)\n",
      "Label - Label Id: 2 Name: bird\n"
     ]
    },
    {
     "data": {
      "image/png": "[encoded data removed]",
      "text/plain": [
       "<matplotlib.figure.Figure at 0x7f053b53dbe0>"
      ]
     },
     "metadata": {
      "image/png": {
       "height": 250,
       "width": 253
      }
     },
     "output_type": "display_data"
    }
   ],
   "source": [
    "%matplotlib inline\n",
    "%config InlineBackend.figure_format = 'retina'\n",
    "\n",
    "import helper\n",
    "import numpy as np\n",
    "\n",
    "# Explore the dataset\n",
    "batch_id = 4\n",
    "sample_id = 5\n",
    "helper.display_stats(cifar10_dataset_folder_path, batch_id, sample_id)"
   ]
  },
  {
   "cell_type": "markdown",
   "metadata": {},
   "source": [
    "## Implement Preprocess Functions\n",
    "### Normalize\n",
    "In the cell below, implement the `normalize` function to take in image data, `x`, and return it as a normalized Numpy array. The values should be in the range of 0 to 1, inclusive.  The return object should be the same shape as `x`."
   ]
  },
  {
   "cell_type": "code",
   "execution_count": 7,
   "metadata": {},
   "outputs": [
    {
     "name": "stdout",
     "output_type": "stream",
     "text": [
      "Tests Passed\n"
     ]
    }
   ],
   "source": [
    "def normalize(x):\n",
    "    \"\"\"\n",
    "    Normalize a list of sample image data in the range of 0 to 1\n",
    "    : x: List of image data.  The image shape is (32, 32, 3)\n",
    "    : return: Numpy array of normalize data\n",
    "    \"\"\"\n",
    "    # TODO: Implement Function\n",
    "    #The input is an image,so pixel values would be in 0-255. Normalize by dividing by 255 and get a greyscale image\n",
    "    normalized_data = np.array(x/255)\n",
    "    return normalized_data\n",
    "\n",
    "\n",
    "\"\"\"\n",
    "DON'T MODIFY ANYTHING IN THIS CELL THAT IS BELOW THIS LINE\n",
    "\"\"\"\n",
    "tests.test_normalize(normalize)"
   ]
  },
  {
   "cell_type": "markdown",
   "metadata": {},
   "source": [
    "### One-hot encode\n",
    "Just like the previous code cell, you'll be implementing a function for preprocessing.  This time, you'll implement the `one_hot_encode` function. The input, `x`, are a list of labels.  Implement the function to return the list of labels as One-Hot encoded Numpy array.  The possible values for labels are 0 to 9. The one-hot encoding function should return the same encoding for each value between each call to `one_hot_encode`.  Make sure to save the map of encodings outside the function.\n",
    "\n",
    "Hint: Don't reinvent the wheel."
   ]
  },
  {
   "cell_type": "code",
   "execution_count": 20,
   "metadata": {},
   "outputs": [
    {
     "name": "stdout",
     "output_type": "stream",
     "text": [
      "Tests Passed\n"
     ]
    }
   ],
   "source": [
    "def one_hot_encode(x):\n",
    "    \"\"\"\n",
    "    One hot encode a list of sample labels. Return a one-hot encoded vector for each label.\n",
    "    : x: List of sample Labels\n",
    "    : return: Numpy array of one-hot encoded labels\n",
    "    \"\"\"\n",
    "    # Input is a 1D list of labels.\n",
    "    # Output is a 2D array, where each row has a 1 against the label for that row\n",
    "    # Big assumption is that labels are between 0 and 9. If that breaks, this function won't work\n",
    "    # Validations here\n",
    "    for label in x:\n",
    "        if label < 0 or label > 9:\n",
    "            raise ValueError(\"Labels are wrong for 1-hot encoding. Expected in 0-9 range\")\n",
    "    oneHotArray = np.zeros([len(x), 10])\n",
    "    for i in range(0, len(x)):\n",
    "        oneHotArray[i][x[i]] = 1\n",
    "    return oneHotArray\n",
    "\n",
    "\n",
    "\"\"\"\n",
    "DON'T MODIFY ANYTHING IN THIS CELL THAT IS BELOW THIS LINE\n",
    "\"\"\"\n",
    "tests.test_one_hot_encode(one_hot_encode)"
   ]
  },
  {
   "cell_type": "markdown",
   "metadata": {},
   "source": [
    "### Randomize Data\n",
    "As you saw from exploring the data above, the order of the samples are randomized.  It doesn't hurt to randomize it again, but you don't need to for this dataset."
   ]
  },
  {
   "cell_type": "markdown",
   "metadata": {},
   "source": [
    "## Preprocess all the data and save it\n",
    "Running the code cell below will preprocess all the CIFAR-10 data and save it to file. The code below also uses 10% of the training data for validation."
   ]
  },
  {
   "cell_type": "code",
   "execution_count": 17,
   "metadata": {},
   "outputs": [],
   "source": [
    "\"\"\"\n",
    "DON'T MODIFY ANYTHING IN THIS CELL\n",
    "\"\"\"\n",
    "# Preprocess Training, Validation, and Testing Data\n",
    "helper.preprocess_and_save_data(cifar10_dataset_folder_path, normalize, one_hot_encode)"
   ]
  },
  {
   "cell_type": "markdown",
   "metadata": {},
   "source": [
    "# Check Point\n",
    "This is your first checkpoint.  If you ever decide to come back to this notebook or have to restart the notebook, you can start from here.  The preprocessed data has been saved to disk."
   ]
  },
  {
   "cell_type": "code",
   "execution_count": 18,
   "metadata": {},
   "outputs": [],
   "source": [
    "\"\"\"\n",
    "DON'T MODIFY ANYTHING IN THIS CELL\n",
    "\"\"\"\n",
    "import pickle\n",
    "import problem_unittests as tests\n",
    "import helper\n",
    "\n",
    "# Load the Preprocessed Validation data\n",
    "valid_features, valid_labels = pickle.load(open('preprocess_validation.p', mode='rb'))"
   ]
  },
  {
   "cell_type": "markdown",
   "metadata": {},
   "source": [
    "## Build the network\n",
    "For the neural network, you'll build each layer into a function.  Most of the code you've seen has been outside of functions. To test your code more thoroughly, we require that you put each layer in a function.  This allows us to give you better feedback and test for simple mistakes using our unittests before you submit your project.\n",
    "\n",
    ">**Note:** If you're finding it hard to dedicate enough time for this course each week, we've provided a small shortcut to this part of the project. In the next couple of problems, you'll have the option to use classes from the [TensorFlow Layers](https://www.tensorflow.org/api_docs/python/tf/layers) or [TensorFlow Layers (contrib)](https://www.tensorflow.org/api_guides/python/contrib.layers) packages to build each layer, except the layers you build in the \"Convolutional and Max Pooling Layer\" section.  TF Layers is similar to Keras's and TFLearn's abstraction to layers, so it's easy to pickup.\n",
    "\n",
    ">However, if you would like to get the most out of this course, try to solve all the problems _without_ using anything from the TF Layers packages. You **can** still use classes from other packages that happen to have the same name as ones you find in TF Layers! For example, instead of using the TF Layers version of the `conv2d` class, [tf.layers.conv2d](https://www.tensorflow.org/api_docs/python/tf/layers/conv2d), you would want to use the TF Neural Network version of `conv2d`, [tf.nn.conv2d](https://www.tensorflow.org/api_docs/python/tf/nn/conv2d). \n",
    "\n",
    "Let's begin!\n",
    "\n",
    "### Input\n",
    "The neural network needs to read the image data, one-hot encoded labels, and dropout keep probability. Implement the following functions\n",
    "* Implement `neural_net_image_input`\n",
    " * Return a [TF Placeholder](https://www.tensorflow.org/api_docs/python/tf/placeholder)\n",
    " * Set the shape using `image_shape` with batch size set to `None`.\n",
    " * Name the TensorFlow placeholder \"x\" using the TensorFlow `name` parameter in the [TF Placeholder](https://www.tensorflow.org/api_docs/python/tf/placeholder).\n",
    "* Implement `neural_net_label_input`\n",
    " * Return a [TF Placeholder](https://www.tensorflow.org/api_docs/python/tf/placeholder)\n",
    " * Set the shape using `n_classes` with batch size set to `None`.\n",
    " * Name the TensorFlow placeholder \"y\" using the TensorFlow `name` parameter in the [TF Placeholder](https://www.tensorflow.org/api_docs/python/tf/placeholder).\n",
    "* Implement `neural_net_keep_prob_input`\n",
    " * Return a [TF Placeholder](https://www.tensorflow.org/api_docs/python/tf/placeholder) for dropout keep probability.\n",
    " * Name the TensorFlow placeholder \"keep_prob\" using the TensorFlow `name` parameter in the [TF Placeholder](https://www.tensorflow.org/api_docs/python/tf/placeholder).\n",
    "\n",
    "These names will be used at the end of the project to load your saved model.\n",
    "\n",
    "Note: `None` for shapes in TensorFlow allow for a dynamic size."
   ]
  },
  {
   "cell_type": "code",
   "execution_count": 21,
   "metadata": {},
   "outputs": [],
   "source": [
    "import tensorflow as tf"
   ]
  },
  {
   "cell_type": "code",
   "execution_count": 78,
   "metadata": {},
   "outputs": [
    {
     "name": "stdout",
     "output_type": "stream",
     "text": [
      "Image Input Tests Passed.\n",
      "Label Input Tests Passed.\n",
      "Keep Prob Tests Passed.\n"
     ]
    }
   ],
   "source": [
    "def neural_net_image_input(image_shape):\n",
    "    \"\"\"\n",
    "    Return a Tensor for a batch of image input\n",
    "    : image_shape: Shape of the images\n",
    "    : return: Tensor for image input.\n",
    "    \"\"\"\n",
    "    # TODO: Implement Function\n",
    "    return tf.placeholder(tf.float32, name='x', shape = [None, image_shape[0],image_shape[1],image_shape[2]])\n",
    "\n",
    "\n",
    "def neural_net_label_input(n_classes):\n",
    "    \"\"\"\n",
    "    Return a Tensor for a batch of label input\n",
    "    : n_classes: Number of classes\n",
    "    : return: Tensor for label input.\n",
    "    \"\"\"\n",
    "    # TODO: Implement Function\n",
    "    return tf.placeholder(tf.float32, name='y', shape = [None, n_classes])\n",
    "\n",
    "\n",
    "def neural_net_keep_prob_input():\n",
    "    \"\"\"\n",
    "    Return a Tensor for keep probability\n",
    "    : return: Tensor for keep probability.\n",
    "    \"\"\"\n",
    "    # TODO: Implement Function\n",
    "    return tf.placeholder(tf.float32, name='keep_prob')\n",
    "\n",
    "\n",
    "\"\"\"\n",
    "DON'T MODIFY ANYTHING IN THIS CELL THAT IS BELOW THIS LINE\n",
    "\"\"\"\n",
    "tf.reset_default_graph()\n",
    "tests.test_nn_image_inputs(neural_net_image_input)\n",
    "tests.test_nn_label_inputs(neural_net_label_input)\n",
    "tests.test_nn_keep_prob_inputs(neural_net_keep_prob_input)"
   ]
  },
  {
   "cell_type": "markdown",
   "metadata": {},
   "source": [
    "### Convolution and Max Pooling Layer\n",
    "Convolution layers have a lot of success with images. For this code cell, you should implement the function `conv2d_maxpool` to apply convolution then max pooling:\n",
    "* Create the weight and bias using `conv_ksize`, `conv_num_outputs` and the shape of `x_tensor`.\n",
    "* Apply a convolution to `x_tensor` using weight and `conv_strides`.\n",
    " * We recommend you use same padding, but you're welcome to use any padding.\n",
    "* Add bias\n",
    "* Add a nonlinear activation to the convolution.\n",
    "* Apply Max Pooling using `pool_ksize` and `pool_strides`.\n",
    " * We recommend you use same padding, but you're welcome to use any padding.\n",
    "\n",
    "**Note:** You **can't** use [TensorFlow Layers](https://www.tensorflow.org/api_docs/python/tf/layers) or [TensorFlow Layers (contrib)](https://www.tensorflow.org/api_guides/python/contrib.layers) for **this** layer, but you can still use TensorFlow's [Neural Network](https://www.tensorflow.org/api_docs/python/tf/nn) package. You may still use the shortcut option for all the **other** layers."
   ]
  },
  {
   "cell_type": "code",
   "execution_count": 79,
   "metadata": {},
   "outputs": [
    {
     "name": "stdout",
     "output_type": "stream",
     "text": [
      "(?, 32, 32, 5)\n",
      "Tests Passed\n"
     ]
    }
   ],
   "source": [
    "def conv2d_maxpool(x_tensor, conv_num_outputs, conv_ksize, conv_strides, pool_ksize, pool_strides):\n",
    "    \"\"\"\n",
    "    Apply convolution then max pooling to x_tensor\n",
    "    :param x_tensor: TensorFlow Tensor\n",
    "    :param conv_num_outputs: Number of outputs for the convolutional layer\n",
    "    :param conv_ksize: kernal size 2-D Tuple for the convolutional layer\n",
    "    :param conv_strides: Stride 2-D Tuple for convolution\n",
    "    :param pool_ksize: kernal size 2-D Tuple for pool\n",
    "    :param pool_strides: Stride 2-D Tuple for pool\n",
    "    : return: A tensor that represents convolution and max pooling of x_tensor\n",
    "    \"\"\"\n",
    "    # TODO: Implement Function\n",
    "    #Create weights for the patch. Here patch is called the conv kernel, so use its size.\n",
    "    # We are convolving from input depth of x_tensor's 3rd dimension value to the number of outputs for conv layer.\n",
    "    print(x_tensor.shape)\n",
    "    weights = tf.Variable(tf.truncated_normal(\n",
    "        [conv_ksize[1], conv_ksize[0], x_tensor.shape.as_list()[3], conv_num_outputs]))\n",
    "    #Set up the convolution layer\n",
    "    conv = tf.nn.conv2d(x_tensor,\n",
    "                        weights,\n",
    "                        strides=[1, conv_strides[0],conv_strides[1], 1],\n",
    "                        padding='SAME')\n",
    "    #Set up max pool\n",
    "    conv = tf.nn.max_pool(conv,\n",
    "                          ksize=[1, pool_ksize[0], pool_ksize[1], 1],\n",
    "                          strides=[1, pool_strides[0],pool_strides[1], 1],\n",
    "                          padding='SAME')\n",
    "    return conv \n",
    "\n",
    "\n",
    "\"\"\"\n",
    "DON'T MODIFY ANYTHING IN THIS CELL THAT IS BELOW THIS LINE\n",
    "\"\"\"\n",
    "tests.test_con_pool(conv2d_maxpool)"
   ]
  },
  {
   "cell_type": "markdown",
   "metadata": {},
   "source": [
    "### Flatten Layer\n",
    "Implement the `flatten` function to change the dimension of `x_tensor` from a 4-D tensor to a 2-D tensor.  The output should be the shape (*Batch Size*, *Flattened Image Size*). Shortcut option: you can use classes from the [TensorFlow Layers](https://www.tensorflow.org/api_docs/python/tf/layers) or [TensorFlow Layers (contrib)](https://www.tensorflow.org/api_guides/python/contrib.layers) packages for this layer. For more of a challenge, only use other TensorFlow packages."
   ]
  },
  {
   "cell_type": "code",
   "execution_count": 80,
   "metadata": {},
   "outputs": [
    {
     "name": "stdout",
     "output_type": "stream",
     "text": [
      "Tests Passed\n"
     ]
    }
   ],
   "source": [
    "def flatten(x_tensor):\n",
    "    \"\"\"\n",
    "    Flatten x_tensor to (Batch Size, Flattened Image Size)\n",
    "    : x_tensor: A tensor of size (Batch Size, ...), where ... are the image dimensions.\n",
    "    : return: A tensor of size (Batch Size, Flattened Image Size).\n",
    "    \"\"\"\n",
    "    # TODO: Implement Function\n",
    "    from tensorflow.python.layers import layers\n",
    "    \n",
    "    return layers.flatten(x_tensor)\n",
    "\n",
    "\n",
    "\"\"\"\n",
    "DON'T MODIFY ANYTHING IN THIS CELL THAT IS BELOW THIS LINE\n",
    "\"\"\"\n",
    "\n",
    "tests.test_flatten(flatten)"
   ]
  },
  {
   "cell_type": "markdown",
   "metadata": {},
   "source": [
    "### Fully-Connected Layer\n",
    "Implement the `fully_conn` function to apply a fully connected layer to `x_tensor` with the shape (*Batch Size*, *num_outputs*). Shortcut option: you can use classes from the [TensorFlow Layers](https://www.tensorflow.org/api_docs/python/tf/layers) or [TensorFlow Layers (contrib)](https://www.tensorflow.org/api_guides/python/contrib.layers) packages for this layer. For more of a challenge, only use other TensorFlow packages."
   ]
  },
  {
   "cell_type": "code",
   "execution_count": 174,
   "metadata": {},
   "outputs": [
    {
     "name": "stdout",
     "output_type": "stream",
     "text": [
      "Tests Passed\n"
     ]
    }
   ],
   "source": [
    "def fully_conn(x_tensor, num_outputs,keep_prob=1.0):\n",
    "    \"\"\"\n",
    "    Apply a fully connected layer to x_tensor using weight and bias\n",
    "    : x_tensor: A 2-D tensor where the first dimension is batch size.\n",
    "    : num_outputs: The number of output that the new tensor should be.\n",
    "    : return: A 2-D tensor where the second dimension is num_outputs.\n",
    "    \"\"\"\n",
    "    # TODO: Implement Function\n",
    "    from tensorflow.python.layers import layers\n",
    "    connected_tensor= layers.dense(x_tensor,num_outputs)\n",
    "    return layers.dropout(connected_tensor, rate=keep_prob)\n",
    "    \n",
    "\n",
    "\n",
    "\"\"\"\n",
    "DON'T MODIFY ANYTHING IN THIS CELL THAT IS BELOW THIS LINE\n",
    "\"\"\"\n",
    "tests.test_fully_conn(fully_conn)"
   ]
  },
  {
   "cell_type": "markdown",
   "metadata": {},
   "source": [
    "### Output Layer\n",
    "Implement the `output` function to apply a fully connected layer to `x_tensor` with the shape (*Batch Size*, *num_outputs*). Shortcut option: you can use classes from the [TensorFlow Layers](https://www.tensorflow.org/api_docs/python/tf/layers) or [TensorFlow Layers (contrib)](https://www.tensorflow.org/api_guides/python/contrib.layers) packages for this layer. For more of a challenge, only use other TensorFlow packages.\n",
    "\n",
    "**Note:** Activation, softmax, or cross entropy should **not** be applied to this."
   ]
  },
  {
   "cell_type": "code",
   "execution_count": 175,
   "metadata": {},
   "outputs": [
    {
     "name": "stdout",
     "output_type": "stream",
     "text": [
      "Tests Passed\n"
     ]
    }
   ],
   "source": [
    "def output(x_tensor, num_outputs):\n",
    "    \"\"\"\n",
    "    Apply a output layer to x_tensor using weight and bias\n",
    "    : x_tensor: A 2-D tensor where the first dimension is batch size.\n",
    "    : num_outputs: The number of output that the new tensor should be.\n",
    "    : return: A 2-D tensor where the second dimension is num_outputs.\n",
    "    \"\"\"\n",
    "    # Simple matmul and output y = wx +b\n",
    "    weights = tf.Variable(tf.truncated_normal([x_tensor.shape.as_list()[1], num_outputs]))\n",
    "    bias = tf.Variable(tf.random_normal([num_outputs]))\n",
    "    return tf.add(tf.matmul(x_tensor, weights), bias)\n",
    "\n",
    "\n",
    "\"\"\"\n",
    "DON'T MODIFY ANYTHING IN THIS CELL THAT IS BELOW THIS LINE\n",
    "\"\"\"\n",
    "tests.test_output(output)"
   ]
  },
  {
   "cell_type": "markdown",
   "metadata": {},
   "source": [
    "### Create Convolutional Model\n",
    "Implement the function `conv_net` to create a convolutional neural network model. The function takes in a batch of images, `x`, and outputs logits.  Use the layers you created above to create this model:\n",
    "\n",
    "* Apply 1, 2, or 3 Convolution and Max Pool layers\n",
    "* Apply a Flatten Layer\n",
    "* Apply 1, 2, or 3 Fully Connected Layers\n",
    "* Apply an Output Layer\n",
    "* Return the output\n",
    "* Apply [TensorFlow's Dropout](https://www.tensorflow.org/api_docs/python/tf/nn/dropout) to one or more layers in the model using `keep_prob`. "
   ]
  },
  {
   "cell_type": "code",
   "execution_count": 210,
   "metadata": {},
   "outputs": [
    {
     "name": "stdout",
     "output_type": "stream",
     "text": [
      "(?, 32, 32, 3)\n",
      "(?, 32, 32, 32)\n",
      "(?, 32, 32, 3)\n",
      "(?, 32, 32, 32)\n",
      "Neural Network Built!\n"
     ]
    }
   ],
   "source": [
    "def conv_net(x, keep_prob):\n",
    "    \"\"\"\n",
    "    Create a convolutional neural network model\n",
    "    : x: Placeholder tensor that holds image data.\n",
    "    : keep_prob: Placeholder tensor that hold dropout keep probability.\n",
    "    : return: Tensor that represents logits\n",
    "    \"\"\"\n",
    "    # TODO: Apply 1, 2, or 3 Convolution and Max Pool layers\n",
    "    #    Play around with different number of outputs, kernel size and stride\n",
    "    # Function Definition from Above:\n",
    "    #    conv2d_maxpool(x_tensor, conv_num_outputs, conv_ksize, conv_strides, pool_ksize, pool_strides)\n",
    "    conv = conv2d_maxpool(x, 32,(3,3),(1,1),(2,2),(1,1))\n",
    "    conv = conv2d_maxpool(conv, 64,(1,1),(1,1),(2,2),(1,1))\n",
    "\n",
    "    # TODO: Apply a Flatten Layer\n",
    "    # Function Definition from Above:\n",
    "    #   flatten(x_tensor)\n",
    "    flat_layer = flatten(conv)\n",
    "\n",
    "    # TODO: Apply 1, 2, or 3 Fully Connected Layers\n",
    "    #    Play around with different number of outputs\n",
    "    # Function Definition from Above:\n",
    "    #   fully_conn(x_tensor, num_outputs)\n",
    "    full_con = fully_conn(flat_layer, 32,keep_prob=keep_prob)\n",
    "    #full_con = fully_conn(full_con, 32,keep_prob=keep_prob)\n",
    "    \n",
    "    # TODO: Apply an Output Layer\n",
    "    #    Set this to the number of classes\n",
    "    # Function Definition from Above:\n",
    "    #   output(x_tensor, num_outputs)\n",
    "    out = output(full_con, 10)\n",
    "    \n",
    "    # TODO: return output\n",
    "    return out\n",
    "\n",
    "\n",
    "\"\"\"\n",
    "DON'T MODIFY ANYTHING IN THIS CELL THAT IS BELOW THIS LINE\n",
    "\"\"\"\n",
    "\n",
    "##############################\n",
    "## Build the Neural Network ##\n",
    "##############################\n",
    "\n",
    "# Remove previous weights, bias, inputs, etc..\n",
    "tf.reset_default_graph()\n",
    "\n",
    "# Inputs\n",
    "x = neural_net_image_input((32, 32, 3))\n",
    "y = neural_net_label_input(10)\n",
    "keep_prob = neural_net_keep_prob_input()\n",
    "\n",
    "# Model\n",
    "logits = conv_net(x, keep_prob)\n",
    "\n",
    "# Name logits Tensor, so that is can be loaded from disk after training\n",
    "logits = tf.identity(logits, name='logits')\n",
    "\n",
    "# Loss and Optimizer\n",
    "cost = tf.reduce_mean(tf.nn.softmax_cross_entropy_with_logits(logits=logits, labels=y))\n",
    "optimizer = tf.train.AdamOptimizer().minimize(cost)\n",
    "\n",
    "# Accuracy\n",
    "correct_pred = tf.equal(tf.argmax(logits, 1), tf.argmax(y, 1))\n",
    "accuracy = tf.reduce_mean(tf.cast(correct_pred, tf.float32), name='accuracy')\n",
    "\n",
    "tests.test_conv_net(conv_net)"
   ]
  },
  {
   "cell_type": "markdown",
   "metadata": {},
   "source": [
    "## Train the Neural Network\n",
    "### Single Optimization\n",
    "Implement the function `train_neural_network` to do a single optimization.  The optimization should use `optimizer` to optimize in `session` with a `feed_dict` of the following:\n",
    "* `x` for image input\n",
    "* `y` for labels\n",
    "* `keep_prob` for keep probability for dropout\n",
    "\n",
    "This function will be called for each batch, so `tf.global_variables_initializer()` has already been called.\n",
    "\n",
    "Note: Nothing needs to be returned. This function is only optimizing the neural network."
   ]
  },
  {
   "cell_type": "code",
   "execution_count": 211,
   "metadata": {},
   "outputs": [
    {
     "name": "stdout",
     "output_type": "stream",
     "text": [
      "Tests Passed\n"
     ]
    }
   ],
   "source": [
    "def train_neural_network(session, optimizer, keep_probability, feature_batch, label_batch):\n",
    "    \"\"\"\n",
    "    Optimize the session on a batch of images and labels\n",
    "    : session: Current TensorFlow session\n",
    "    : optimizer: TensorFlow optimizer function\n",
    "    : keep_probability: keep probability\n",
    "    : feature_batch: Batch of Numpy image data\n",
    "    : label_batch: Batch of Numpy label data\n",
    "    \"\"\"\n",
    "    # TODO: Implement Function\n",
    "    session.run(optimizer, feed_dict = {\n",
    "        x:feature_batch,\n",
    "        y:label_batch,\n",
    "        keep_prob:keep_probability\n",
    "    })\n",
    "\n",
    "\n",
    "\"\"\"\n",
    "DON'T MODIFY ANYTHING IN THIS CELL THAT IS BELOW THIS LINE\n",
    "\"\"\"\n",
    "tests.test_train_nn(train_neural_network)"
   ]
  },
  {
   "cell_type": "markdown",
   "metadata": {},
   "source": [
    "### Show Stats\n",
    "Implement the function `print_stats` to print loss and validation accuracy.  Use the global variables `valid_features` and `valid_labels` to calculate validation accuracy.  Use a keep probability of `1.0` to calculate the loss and validation accuracy."
   ]
  },
  {
   "cell_type": "code",
   "execution_count": 212,
   "metadata": {},
   "outputs": [],
   "source": [
    "def print_stats(session, feature_batch, label_batch, cost, accuracy):\n",
    "    \"\"\"\n",
    "    Print information about loss and validation accuracy\n",
    "    : session: Current TensorFlow session\n",
    "    : feature_batch: Batch of Numpy image data\n",
    "    : label_batch: Batch of Numpy label data\n",
    "    : cost: TensorFlow cost function\n",
    "    : accuracy: TensorFlow accuracy function\n",
    "    \"\"\"\n",
    "    loss = session.run(cost,feed_dict={ x:feature_batch, y:label_batch, keep_prob: 1.0} )\n",
    "    \n",
    "    validation_accuracy = session.run(accuracy, feed_dict= {x:valid_features, y: valid_labels, keep_prob: 1.0})\n",
    "    print(\"Loss: {:>10.4f} Validation Accuracy: {:.6f}\".format(loss, validation_accuracy))"
   ]
  },
  {
   "cell_type": "markdown",
   "metadata": {},
   "source": [
    "### Hyperparameters\n",
    "Tune the following parameters:\n",
    "* Set `epochs` to the number of iterations until the network stops learning or start overfitting\n",
    "* Set `batch_size` to the highest number that your machine has memory for.  Most people set them to common sizes of memory:\n",
    " * 64\n",
    " * 128\n",
    " * 256\n",
    " * ...\n",
    "* Set `keep_probability` to the probability of keeping a node using dropout"
   ]
  },
  {
   "cell_type": "code",
   "execution_count": 227,
   "metadata": {},
   "outputs": [],
   "source": [
    "# TODO: Tune Parameters\n",
    "epochs = 50\n",
    "batch_size = 256\n",
    "keep_probability = 0.50"
   ]
  },
  {
   "cell_type": "markdown",
   "metadata": {},
   "source": [
    "### Train on a Single CIFAR-10 Batch\n",
    "Instead of training the neural network on all the CIFAR-10 batches of data, let's use a single batch. This should save time while you iterate on the model to get a better accuracy.  Once the final validation accuracy is 50% or greater, run the model on all the data in the next section."
   ]
  },
  {
   "cell_type": "code",
   "execution_count": 228,
   "metadata": {},
   "outputs": [
    {
     "name": "stdout",
     "output_type": "stream",
     "text": [
      "Checking the Training on a Single Batch...\n",
      "Epoch  1, CIFAR-10 Batch 1:  Loss:  1273.2953 Validation Accuracy: 0.248400\n",
      "Epoch  2, CIFAR-10 Batch 1:  Loss:   263.8386 Validation Accuracy: 0.292200\n",
      "Epoch  3, CIFAR-10 Batch 1:  Loss:   356.2337 Validation Accuracy: 0.293600\n",
      "Epoch  4, CIFAR-10 Batch 1:  Loss:   209.8543 Validation Accuracy: 0.291600\n",
      "Epoch  5, CIFAR-10 Batch 1:  Loss:   677.4323 Validation Accuracy: 0.207000\n",
      "Epoch  6, CIFAR-10 Batch 1:  Loss:    97.0857 Validation Accuracy: 0.299800\n",
      "Epoch  7, CIFAR-10 Batch 1:  Loss:   140.3487 Validation Accuracy: 0.343800\n",
      "Epoch  8, CIFAR-10 Batch 1:  Loss:   131.8327 Validation Accuracy: 0.274000\n",
      "Epoch  9, CIFAR-10 Batch 1:  Loss:   136.7317 Validation Accuracy: 0.397200\n",
      "Epoch 10, CIFAR-10 Batch 1:  Loss:   107.3203 Validation Accuracy: 0.266200\n",
      "Epoch 11, CIFAR-10 Batch 1:  Loss:   217.2481 Validation Accuracy: 0.328600\n",
      "Epoch 12, CIFAR-10 Batch 1:  Loss:    27.6839 Validation Accuracy: 0.397000\n",
      "Epoch 13, CIFAR-10 Batch 1:  Loss:    26.5245 Validation Accuracy: 0.396800\n",
      "Epoch 14, CIFAR-10 Batch 1:  Loss:    11.1554 Validation Accuracy: 0.415000\n",
      "Epoch 15, CIFAR-10 Batch 1:  Loss:    35.3065 Validation Accuracy: 0.381000\n",
      "Epoch 16, CIFAR-10 Batch 1:  Loss:    10.2791 Validation Accuracy: 0.414800\n",
      "Epoch 17, CIFAR-10 Batch 1:  Loss:    34.6725 Validation Accuracy: 0.353000\n",
      "Epoch 18, CIFAR-10 Batch 1:  Loss:    31.2917 Validation Accuracy: 0.394400\n",
      "Epoch 19, CIFAR-10 Batch 1:  Loss:    10.9398 Validation Accuracy: 0.451200\n",
      "Epoch 20, CIFAR-10 Batch 1:  Loss:     9.5174 Validation Accuracy: 0.411200\n",
      "Epoch 21, CIFAR-10 Batch 1:  Loss:    44.7481 Validation Accuracy: 0.415600\n",
      "Epoch 22, CIFAR-10 Batch 1:  Loss:    18.3465 Validation Accuracy: 0.397000\n",
      "Epoch 23, CIFAR-10 Batch 1:  Loss:     0.0032 Validation Accuracy: 0.462400\n",
      "Epoch 24, CIFAR-10 Batch 1:  Loss:    13.8904 Validation Accuracy: 0.355600\n",
      "Epoch 25, CIFAR-10 Batch 1:  Loss:     9.2030 Validation Accuracy: 0.419400\n",
      "Epoch 26, CIFAR-10 Batch 1:  Loss:    30.3985 Validation Accuracy: 0.424600\n",
      "Epoch 27, CIFAR-10 Batch 1:  Loss:    20.7126 Validation Accuracy: 0.431400\n",
      "Epoch 28, CIFAR-10 Batch 1:  Loss:     1.8358 Validation Accuracy: 0.447800\n",
      "Epoch 29, CIFAR-10 Batch 1:  Loss:     1.2715 Validation Accuracy: 0.442400\n",
      "Epoch 30, CIFAR-10 Batch 1:  Loss:     0.3041 Validation Accuracy: 0.450600\n",
      "Epoch 31, CIFAR-10 Batch 1:  Loss:    10.9312 Validation Accuracy: 0.381800\n",
      "Epoch 32, CIFAR-10 Batch 1:  Loss:     0.0000 Validation Accuracy: 0.447600\n",
      "Epoch 33, CIFAR-10 Batch 1:  Loss:     3.8623 Validation Accuracy: 0.434000\n",
      "Epoch 34, CIFAR-10 Batch 1:  Loss:     9.5302 Validation Accuracy: 0.383000\n",
      "Epoch 35, CIFAR-10 Batch 1:  Loss:     0.5079 Validation Accuracy: 0.418400\n",
      "Epoch 36, CIFAR-10 Batch 1:  Loss:     0.7978 Validation Accuracy: 0.448000\n",
      "Epoch 37, CIFAR-10 Batch 1:  Loss:     4.7442 Validation Accuracy: 0.429600\n",
      "Epoch 38, CIFAR-10 Batch 1:  Loss:     2.1036 Validation Accuracy: 0.444400\n",
      "Epoch 39, CIFAR-10 Batch 1:  Loss:     5.3833 Validation Accuracy: 0.431600\n",
      "Epoch 40, CIFAR-10 Batch 1:  Loss:     1.0557 Validation Accuracy: 0.451800\n",
      "Epoch 41, CIFAR-10 Batch 1:  Loss:     5.3984 Validation Accuracy: 0.433200\n",
      "Epoch 42, CIFAR-10 Batch 1:  Loss:     5.8338 Validation Accuracy: 0.418200\n",
      "Epoch 43, CIFAR-10 Batch 1:  Loss:     2.2203 Validation Accuracy: 0.449000\n",
      "Epoch 44, CIFAR-10 Batch 1:  Loss:     3.2801 Validation Accuracy: 0.442000\n",
      "Epoch 45, CIFAR-10 Batch 1:  Loss:     4.7290 Validation Accuracy: 0.465800\n",
      "Epoch 46, CIFAR-10 Batch 1:  Loss:     3.6309 Validation Accuracy: 0.411400\n",
      "Epoch 47, CIFAR-10 Batch 1:  Loss:     6.1388 Validation Accuracy: 0.411400\n",
      "Epoch 48, CIFAR-10 Batch 1:  Loss:     1.1604 Validation Accuracy: 0.470400\n",
      "Epoch 49, CIFAR-10 Batch 1:  Loss:     0.5928 Validation Accuracy: 0.452200\n",
      "Epoch 50, CIFAR-10 Batch 1:  Loss:     0.3720 Validation Accuracy: 0.448800\n"
     ]
    }
   ],
   "source": [
    "\"\"\"\n",
    "DON'T MODIFY ANYTHING IN THIS CELL\n",
    "\"\"\"\n",
    "print('Checking the Training on a Single Batch...')\n",
    "with tf.Session() as sess:\n",
    "    # Initializing the variables\n",
    "    sess.run(tf.global_variables_initializer())\n",
    "    \n",
    "    # Training cycle\n",
    "    for epoch in range(epochs):\n",
    "        batch_i = 1\n",
    "        for batch_features, batch_labels in helper.load_preprocess_training_batch(batch_i, batch_size):\n",
    "            train_neural_network(sess, optimizer, keep_probability, batch_features, batch_labels)\n",
    "        print('Epoch {:>2}, CIFAR-10 Batch {}:  '.format(epoch + 1, batch_i), end='')\n",
    "        print_stats(sess, batch_features, batch_labels, cost, accuracy)"
   ]
  },
  {
   "cell_type": "markdown",
   "metadata": {},
   "source": [
    "### Fully Train the Model\n",
    "Now that you got a good accuracy with a single CIFAR-10 batch, try it with all five batches."
   ]
  },
  {
   "cell_type": "code",
   "execution_count": 229,
   "metadata": {},
   "outputs": [
    {
     "name": "stdout",
     "output_type": "stream",
     "text": [
      "Training...\n",
      "Epoch  1, CIFAR-10 Batch 1:  Loss:   647.6152 Validation Accuracy: 0.300200\n",
      "Epoch  1, CIFAR-10 Batch 2:  Loss:   209.6355 Validation Accuracy: 0.304000\n",
      "Epoch  1, CIFAR-10 Batch 3:  Loss:   244.0796 Validation Accuracy: 0.310600\n",
      "Epoch  1, CIFAR-10 Batch 4:  Loss:   122.4866 Validation Accuracy: 0.322600\n",
      "Epoch  1, CIFAR-10 Batch 5:  Loss:   143.7132 Validation Accuracy: 0.345200\n",
      "Epoch  2, CIFAR-10 Batch 1:  Loss:   150.8684 Validation Accuracy: 0.303800\n",
      "Epoch  2, CIFAR-10 Batch 2:  Loss:    64.4750 Validation Accuracy: 0.391400\n",
      "Epoch  2, CIFAR-10 Batch 3:  Loss:    66.9822 Validation Accuracy: 0.379600\n",
      "Epoch  2, CIFAR-10 Batch 4:  Loss:   114.1158 Validation Accuracy: 0.412200\n",
      "Epoch  2, CIFAR-10 Batch 5:  Loss:    35.6673 Validation Accuracy: 0.430400\n",
      "Epoch  3, CIFAR-10 Batch 1:  Loss:    58.8286 Validation Accuracy: 0.384600\n",
      "Epoch  3, CIFAR-10 Batch 2:  Loss:    34.8277 Validation Accuracy: 0.415600\n",
      "Epoch  3, CIFAR-10 Batch 3:  Loss:    29.0775 Validation Accuracy: 0.408200\n",
      "Epoch  3, CIFAR-10 Batch 4:  Loss:    76.5699 Validation Accuracy: 0.329800\n",
      "Epoch  3, CIFAR-10 Batch 5:  Loss:    25.7850 Validation Accuracy: 0.453000\n",
      "Epoch  4, CIFAR-10 Batch 1:  Loss:    33.4780 Validation Accuracy: 0.454600\n",
      "Epoch  4, CIFAR-10 Batch 2:  Loss:    11.8678 Validation Accuracy: 0.461200\n",
      "Epoch  4, CIFAR-10 Batch 3:  Loss:     8.7516 Validation Accuracy: 0.468600\n",
      "Epoch  4, CIFAR-10 Batch 4:  Loss:    15.1291 Validation Accuracy: 0.465200\n",
      "Epoch  4, CIFAR-10 Batch 5:  Loss:    15.8213 Validation Accuracy: 0.423600\n",
      "Epoch  5, CIFAR-10 Batch 1:  Loss:    12.5432 Validation Accuracy: 0.494600\n",
      "Epoch  5, CIFAR-10 Batch 2:  Loss:    15.1141 Validation Accuracy: 0.482400\n",
      "Epoch  5, CIFAR-10 Batch 3:  Loss:     7.4650 Validation Accuracy: 0.469000\n",
      "Epoch  5, CIFAR-10 Batch 4:  Loss:     6.1912 Validation Accuracy: 0.490000\n",
      "Epoch  5, CIFAR-10 Batch 5:  Loss:    17.0459 Validation Accuracy: 0.391000\n",
      "Epoch  6, CIFAR-10 Batch 1:  Loss:    10.1054 Validation Accuracy: 0.499400\n",
      "Epoch  6, CIFAR-10 Batch 2:  Loss:     4.4754 Validation Accuracy: 0.514400\n",
      "Epoch  6, CIFAR-10 Batch 3:  Loss:     7.5973 Validation Accuracy: 0.430400\n",
      "Epoch  6, CIFAR-10 Batch 4:  Loss:     8.0124 Validation Accuracy: 0.481800\n",
      "Epoch  6, CIFAR-10 Batch 5:  Loss:     8.1751 Validation Accuracy: 0.480400\n",
      "Epoch  7, CIFAR-10 Batch 1:  Loss:     1.3348 Validation Accuracy: 0.499200\n",
      "Epoch  7, CIFAR-10 Batch 2:  Loss:     6.4796 Validation Accuracy: 0.512200\n",
      "Epoch  7, CIFAR-10 Batch 3:  Loss:    15.5524 Validation Accuracy: 0.452800\n",
      "Epoch  7, CIFAR-10 Batch 4:  Loss:    15.4960 Validation Accuracy: 0.477000\n",
      "Epoch  7, CIFAR-10 Batch 5:  Loss:     1.9408 Validation Accuracy: 0.501200\n",
      "Epoch  8, CIFAR-10 Batch 1:  Loss:     3.8792 Validation Accuracy: 0.489000\n",
      "Epoch  8, CIFAR-10 Batch 2:  Loss:     2.1233 Validation Accuracy: 0.489600\n",
      "Epoch  8, CIFAR-10 Batch 3:  Loss:     1.9466 Validation Accuracy: 0.487800\n",
      "Epoch  8, CIFAR-10 Batch 4:  Loss:     4.4436 Validation Accuracy: 0.459200\n",
      "Epoch  8, CIFAR-10 Batch 5:  Loss:    15.4289 Validation Accuracy: 0.429000\n",
      "Epoch  9, CIFAR-10 Batch 1:  Loss:     2.8743 Validation Accuracy: 0.502400\n",
      "Epoch  9, CIFAR-10 Batch 2:  Loss:     0.0779 Validation Accuracy: 0.523800\n",
      "Epoch  9, CIFAR-10 Batch 3:  Loss:     1.5200 Validation Accuracy: 0.512800\n",
      "Epoch  9, CIFAR-10 Batch 4:  Loss:     6.6239 Validation Accuracy: 0.481400\n",
      "Epoch  9, CIFAR-10 Batch 5:  Loss:     9.8633 Validation Accuracy: 0.469000\n",
      "Epoch 10, CIFAR-10 Batch 1:  Loss:     9.3867 Validation Accuracy: 0.469000\n",
      "Epoch 10, CIFAR-10 Batch 2:  Loss:     1.0723 Validation Accuracy: 0.502600\n",
      "Epoch 10, CIFAR-10 Batch 3:  Loss:     5.7853 Validation Accuracy: 0.492200\n",
      "Epoch 10, CIFAR-10 Batch 4:  Loss:     2.3487 Validation Accuracy: 0.506600\n",
      "Epoch 10, CIFAR-10 Batch 5:  Loss:     3.2759 Validation Accuracy: 0.492000\n",
      "Epoch 11, CIFAR-10 Batch 1:  Loss:     7.2059 Validation Accuracy: 0.477200\n",
      "Epoch 11, CIFAR-10 Batch 2:  Loss:     1.3413 Validation Accuracy: 0.470000\n",
      "Epoch 11, CIFAR-10 Batch 3:  Loss:     0.6001 Validation Accuracy: 0.520400\n",
      "Epoch 11, CIFAR-10 Batch 4:  Loss:     8.4020 Validation Accuracy: 0.449800\n",
      "Epoch 11, CIFAR-10 Batch 5:  Loss:     4.3923 Validation Accuracy: 0.477800\n",
      "Epoch 12, CIFAR-10 Batch 1:  Loss:     6.8941 Validation Accuracy: 0.479600\n",
      "Epoch 12, CIFAR-10 Batch 2:  Loss:     0.6124 Validation Accuracy: 0.528800\n",
      "Epoch 12, CIFAR-10 Batch 3:  Loss:     0.6154 Validation Accuracy: 0.511400\n",
      "Epoch 12, CIFAR-10 Batch 4:  Loss:     2.8169 Validation Accuracy: 0.514400\n",
      "Epoch 12, CIFAR-10 Batch 5:  Loss:     2.2794 Validation Accuracy: 0.503800\n",
      "Epoch 13, CIFAR-10 Batch 1:  Loss:     1.7031 Validation Accuracy: 0.489200\n",
      "Epoch 13, CIFAR-10 Batch 2:  Loss:     3.3283 Validation Accuracy: 0.474600\n",
      "Epoch 13, CIFAR-10 Batch 3:  Loss:     5.9606 Validation Accuracy: 0.507800\n",
      "Epoch 13, CIFAR-10 Batch 4:  Loss:     5.6620 Validation Accuracy: 0.514800\n",
      "Epoch 13, CIFAR-10 Batch 5:  Loss:     1.9033 Validation Accuracy: 0.539600\n",
      "Epoch 14, CIFAR-10 Batch 1:  Loss:     3.8669 Validation Accuracy: 0.498200\n",
      "Epoch 14, CIFAR-10 Batch 2:  Loss:     0.8479 Validation Accuracy: 0.504800\n",
      "Epoch 14, CIFAR-10 Batch 3:  Loss:     1.1370 Validation Accuracy: 0.538400\n",
      "Epoch 14, CIFAR-10 Batch 4:  Loss:     5.2708 Validation Accuracy: 0.491600\n",
      "Epoch 14, CIFAR-10 Batch 5:  Loss:     0.3282 Validation Accuracy: 0.503800\n",
      "Epoch 15, CIFAR-10 Batch 1:  Loss:     0.7971 Validation Accuracy: 0.510200\n",
      "Epoch 15, CIFAR-10 Batch 2:  Loss:     1.3214 Validation Accuracy: 0.502200\n",
      "Epoch 15, CIFAR-10 Batch 3:  Loss:     1.4829 Validation Accuracy: 0.494400\n",
      "Epoch 15, CIFAR-10 Batch 4:  Loss:     2.2641 Validation Accuracy: 0.486200\n",
      "Epoch 15, CIFAR-10 Batch 5:  Loss:     2.3192 Validation Accuracy: 0.549200\n",
      "Epoch 16, CIFAR-10 Batch 1:  Loss:     0.4377 Validation Accuracy: 0.519200\n",
      "Epoch 16, CIFAR-10 Batch 2:  Loss:     0.0190 Validation Accuracy: 0.552200\n",
      "Epoch 16, CIFAR-10 Batch 3:  Loss:     2.4153 Validation Accuracy: 0.495000\n",
      "Epoch 16, CIFAR-10 Batch 4:  Loss:     5.2138 Validation Accuracy: 0.480000\n",
      "Epoch 16, CIFAR-10 Batch 5:  Loss:     0.0000 Validation Accuracy: 0.514400\n",
      "Epoch 17, CIFAR-10 Batch 1:  Loss:     0.0521 Validation Accuracy: 0.554000\n",
      "Epoch 17, CIFAR-10 Batch 2:  Loss:     3.7875 Validation Accuracy: 0.505600\n",
      "Epoch 17, CIFAR-10 Batch 3:  Loss:     0.8768 Validation Accuracy: 0.487800\n",
      "Epoch 17, CIFAR-10 Batch 4:  Loss:     7.1879 Validation Accuracy: 0.444200\n",
      "Epoch 17, CIFAR-10 Batch 5:  Loss:     1.3983 Validation Accuracy: 0.486000\n",
      "Epoch 18, CIFAR-10 Batch 1:  Loss:     0.6307 Validation Accuracy: 0.541200\n",
      "Epoch 18, CIFAR-10 Batch 2:  Loss:     0.7203 Validation Accuracy: 0.520800\n",
      "Epoch 18, CIFAR-10 Batch 3:  Loss:     2.1841 Validation Accuracy: 0.515600\n",
      "Epoch 18, CIFAR-10 Batch 4:  Loss:    10.4509 Validation Accuracy: 0.487600\n",
      "Epoch 18, CIFAR-10 Batch 5:  Loss:     0.0000 Validation Accuracy: 0.557000\n",
      "Epoch 19, CIFAR-10 Batch 1:  Loss:     0.1380 Validation Accuracy: 0.545600\n",
      "Epoch 19, CIFAR-10 Batch 2:  Loss:     1.3271 Validation Accuracy: 0.513400\n",
      "Epoch 19, CIFAR-10 Batch 3:  Loss:     5.4119 Validation Accuracy: 0.495000\n",
      "Epoch 19, CIFAR-10 Batch 4:  Loss:     4.6026 Validation Accuracy: 0.486800\n",
      "Epoch 19, CIFAR-10 Batch 5:  Loss:     1.1269 Validation Accuracy: 0.530000\n",
      "Epoch 20, CIFAR-10 Batch 1:  Loss:     1.3312 Validation Accuracy: 0.531600\n",
      "Epoch 20, CIFAR-10 Batch 2:  Loss:     0.1180 Validation Accuracy: 0.529600\n",
      "Epoch 20, CIFAR-10 Batch 3:  Loss:     0.4987 Validation Accuracy: 0.529800\n",
      "Epoch 20, CIFAR-10 Batch 4:  Loss:     2.0065 Validation Accuracy: 0.545200\n",
      "Epoch 20, CIFAR-10 Batch 5:  Loss:     0.2280 Validation Accuracy: 0.541200\n",
      "Epoch 21, CIFAR-10 Batch 1:  Loss:     0.0034 Validation Accuracy: 0.525200\n",
      "Epoch 21, CIFAR-10 Batch 2:  Loss:     0.3457 Validation Accuracy: 0.533800\n",
      "Epoch 21, CIFAR-10 Batch 3:  Loss:     0.0070 Validation Accuracy: 0.523000\n",
      "Epoch 21, CIFAR-10 Batch 4:  Loss:     0.0000 Validation Accuracy: 0.530800\n",
      "Epoch 21, CIFAR-10 Batch 5:  Loss:     0.8814 Validation Accuracy: 0.508000\n",
      "Epoch 22, CIFAR-10 Batch 1:  Loss:     0.4147 Validation Accuracy: 0.564600\n",
      "Epoch 22, CIFAR-10 Batch 2:  Loss:     3.6341 Validation Accuracy: 0.516400\n",
      "Epoch 22, CIFAR-10 Batch 3:  Loss:     1.4136 Validation Accuracy: 0.487400\n"
     ]
    },
    {
     "name": "stdout",
     "output_type": "stream",
     "text": [
      "Epoch 22, CIFAR-10 Batch 4:  Loss:     0.6933 Validation Accuracy: 0.542200\n",
      "Epoch 22, CIFAR-10 Batch 5:  Loss:     1.0661 Validation Accuracy: 0.522000\n",
      "Epoch 23, CIFAR-10 Batch 1:  Loss:     1.1725 Validation Accuracy: 0.538400\n",
      "Epoch 23, CIFAR-10 Batch 2:  Loss:     0.0057 Validation Accuracy: 0.537800\n",
      "Epoch 23, CIFAR-10 Batch 3:  Loss:     3.8442 Validation Accuracy: 0.480200\n",
      "Epoch 23, CIFAR-10 Batch 4:  Loss:     0.1070 Validation Accuracy: 0.516000\n",
      "Epoch 23, CIFAR-10 Batch 5:  Loss:     0.6177 Validation Accuracy: 0.532600\n",
      "Epoch 24, CIFAR-10 Batch 1:  Loss:     0.1473 Validation Accuracy: 0.519800\n",
      "Epoch 24, CIFAR-10 Batch 2:  Loss:     3.9868 Validation Accuracy: 0.521000\n",
      "Epoch 24, CIFAR-10 Batch 3:  Loss:     0.0002 Validation Accuracy: 0.490200\n",
      "Epoch 24, CIFAR-10 Batch 4:  Loss:     0.0916 Validation Accuracy: 0.517200\n",
      "Epoch 24, CIFAR-10 Batch 5:  Loss:     0.5968 Validation Accuracy: 0.541400\n",
      "Epoch 25, CIFAR-10 Batch 1:  Loss:     0.3178 Validation Accuracy: 0.525200\n",
      "Epoch 25, CIFAR-10 Batch 2:  Loss:     0.2979 Validation Accuracy: 0.509600\n",
      "Epoch 25, CIFAR-10 Batch 3:  Loss:     0.4858 Validation Accuracy: 0.518200\n",
      "Epoch 25, CIFAR-10 Batch 4:  Loss:     0.6329 Validation Accuracy: 0.524400\n",
      "Epoch 25, CIFAR-10 Batch 5:  Loss:     1.0595 Validation Accuracy: 0.502800\n",
      "Epoch 26, CIFAR-10 Batch 1:  Loss:     2.4350 Validation Accuracy: 0.545200\n",
      "Epoch 26, CIFAR-10 Batch 2:  Loss:     1.6787 Validation Accuracy: 0.492200\n",
      "Epoch 26, CIFAR-10 Batch 3:  Loss:     0.0087 Validation Accuracy: 0.517400\n",
      "Epoch 26, CIFAR-10 Batch 4:  Loss:     0.6288 Validation Accuracy: 0.506400\n",
      "Epoch 26, CIFAR-10 Batch 5:  Loss:     0.0000 Validation Accuracy: 0.540000\n",
      "Epoch 27, CIFAR-10 Batch 1:  Loss:     1.1343 Validation Accuracy: 0.519400\n",
      "Epoch 27, CIFAR-10 Batch 2:  Loss:     0.1834 Validation Accuracy: 0.493200\n",
      "Epoch 27, CIFAR-10 Batch 3:  Loss:     0.9223 Validation Accuracy: 0.509800\n",
      "Epoch 27, CIFAR-10 Batch 4:  Loss:     1.4213 Validation Accuracy: 0.545800\n",
      "Epoch 27, CIFAR-10 Batch 5:  Loss:     0.0000 Validation Accuracy: 0.569600\n",
      "Epoch 28, CIFAR-10 Batch 1:  Loss:     3.5257 Validation Accuracy: 0.492800\n",
      "Epoch 28, CIFAR-10 Batch 2:  Loss:     3.7114 Validation Accuracy: 0.431600\n",
      "Epoch 28, CIFAR-10 Batch 3:  Loss:     0.7364 Validation Accuracy: 0.515600\n",
      "Epoch 28, CIFAR-10 Batch 4:  Loss:     0.6203 Validation Accuracy: 0.541000\n",
      "Epoch 28, CIFAR-10 Batch 5:  Loss:     0.8850 Validation Accuracy: 0.530000\n",
      "Epoch 29, CIFAR-10 Batch 1:  Loss:     1.3348 Validation Accuracy: 0.503000\n",
      "Epoch 29, CIFAR-10 Batch 2:  Loss:     0.0000 Validation Accuracy: 0.554600\n",
      "Epoch 29, CIFAR-10 Batch 3:  Loss:     2.8682 Validation Accuracy: 0.536000\n",
      "Epoch 29, CIFAR-10 Batch 4:  Loss:     1.6740 Validation Accuracy: 0.516000\n",
      "Epoch 29, CIFAR-10 Batch 5:  Loss:     0.6068 Validation Accuracy: 0.535000\n",
      "Epoch 30, CIFAR-10 Batch 1:  Loss:     1.0991 Validation Accuracy: 0.507800\n",
      "Epoch 30, CIFAR-10 Batch 2:  Loss:     0.0000 Validation Accuracy: 0.524000\n",
      "Epoch 30, CIFAR-10 Batch 3:  Loss:     0.0000 Validation Accuracy: 0.553200\n",
      "Epoch 30, CIFAR-10 Batch 4:  Loss:     0.0000 Validation Accuracy: 0.548000\n",
      "Epoch 30, CIFAR-10 Batch 5:  Loss:     0.0033 Validation Accuracy: 0.539600\n",
      "Epoch 31, CIFAR-10 Batch 1:  Loss:     1.1331 Validation Accuracy: 0.515400\n",
      "Epoch 31, CIFAR-10 Batch 2:  Loss:     1.4035 Validation Accuracy: 0.499000\n",
      "Epoch 31, CIFAR-10 Batch 3:  Loss:     0.0002 Validation Accuracy: 0.553200\n",
      "Epoch 31, CIFAR-10 Batch 4:  Loss:     1.6450 Validation Accuracy: 0.506200\n",
      "Epoch 31, CIFAR-10 Batch 5:  Loss:     0.5719 Validation Accuracy: 0.550600\n",
      "Epoch 32, CIFAR-10 Batch 1:  Loss:     1.3869 Validation Accuracy: 0.518600\n",
      "Epoch 32, CIFAR-10 Batch 2:  Loss:     2.1641 Validation Accuracy: 0.494800\n",
      "Epoch 32, CIFAR-10 Batch 3:  Loss:     0.0030 Validation Accuracy: 0.570400\n",
      "Epoch 32, CIFAR-10 Batch 4:  Loss:     0.9838 Validation Accuracy: 0.519600\n",
      "Epoch 32, CIFAR-10 Batch 5:  Loss:     0.0014 Validation Accuracy: 0.531000\n",
      "Epoch 33, CIFAR-10 Batch 1:  Loss:     0.0000 Validation Accuracy: 0.539200\n",
      "Epoch 33, CIFAR-10 Batch 2:  Loss:     1.1650 Validation Accuracy: 0.435600\n",
      "Epoch 33, CIFAR-10 Batch 3:  Loss:     0.0000 Validation Accuracy: 0.575400\n",
      "Epoch 33, CIFAR-10 Batch 4:  Loss:     0.0020 Validation Accuracy: 0.556400\n",
      "Epoch 33, CIFAR-10 Batch 5:  Loss:     1.0751 Validation Accuracy: 0.527600\n",
      "Epoch 34, CIFAR-10 Batch 1:  Loss:     0.0000 Validation Accuracy: 0.559400\n",
      "Epoch 34, CIFAR-10 Batch 2:  Loss:     0.3336 Validation Accuracy: 0.497400\n",
      "Epoch 34, CIFAR-10 Batch 3:  Loss:     0.0000 Validation Accuracy: 0.585800\n",
      "Epoch 34, CIFAR-10 Batch 4:  Loss:     1.7548 Validation Accuracy: 0.542400\n",
      "Epoch 34, CIFAR-10 Batch 5:  Loss:     0.0390 Validation Accuracy: 0.547200\n",
      "Epoch 35, CIFAR-10 Batch 1:  Loss:     0.3318 Validation Accuracy: 0.557800\n",
      "Epoch 35, CIFAR-10 Batch 2:  Loss:     0.0000 Validation Accuracy: 0.540800\n",
      "Epoch 35, CIFAR-10 Batch 3:  Loss:     0.4453 Validation Accuracy: 0.514800\n",
      "Epoch 35, CIFAR-10 Batch 4:  Loss:     0.0114 Validation Accuracy: 0.514800\n",
      "Epoch 35, CIFAR-10 Batch 5:  Loss:     0.0000 Validation Accuracy: 0.569200\n",
      "Epoch 36, CIFAR-10 Batch 1:  Loss:     0.1342 Validation Accuracy: 0.559600\n",
      "Epoch 36, CIFAR-10 Batch 2:  Loss:     0.1660 Validation Accuracy: 0.552800\n",
      "Epoch 36, CIFAR-10 Batch 3:  Loss:     0.6476 Validation Accuracy: 0.509600\n",
      "Epoch 36, CIFAR-10 Batch 4:  Loss:     0.0000 Validation Accuracy: 0.500200\n",
      "Epoch 36, CIFAR-10 Batch 5:  Loss:     0.0022 Validation Accuracy: 0.565000\n",
      "Epoch 37, CIFAR-10 Batch 1:  Loss:     0.0331 Validation Accuracy: 0.547600\n",
      "Epoch 37, CIFAR-10 Batch 2:  Loss:     0.0000 Validation Accuracy: 0.562600\n",
      "Epoch 37, CIFAR-10 Batch 3:  Loss:     0.1114 Validation Accuracy: 0.518000\n",
      "Epoch 37, CIFAR-10 Batch 4:  Loss:     0.2380 Validation Accuracy: 0.498800\n",
      "Epoch 37, CIFAR-10 Batch 5:  Loss:     0.3120 Validation Accuracy: 0.561400\n",
      "Epoch 38, CIFAR-10 Batch 1:  Loss:     0.0001 Validation Accuracy: 0.545600\n",
      "Epoch 38, CIFAR-10 Batch 2:  Loss:     0.0000 Validation Accuracy: 0.544000\n",
      "Epoch 38, CIFAR-10 Batch 3:  Loss:     0.0000 Validation Accuracy: 0.514400\n",
      "Epoch 38, CIFAR-10 Batch 4:  Loss:     1.9568 Validation Accuracy: 0.494600\n",
      "Epoch 38, CIFAR-10 Batch 5:  Loss:     0.0000 Validation Accuracy: 0.560800\n",
      "Epoch 39, CIFAR-10 Batch 1:  Loss:     0.0003 Validation Accuracy: 0.536200\n",
      "Epoch 39, CIFAR-10 Batch 2:  Loss:     0.0000 Validation Accuracy: 0.533000\n",
      "Epoch 39, CIFAR-10 Batch 3:  Loss:     0.4602 Validation Accuracy: 0.504200\n",
      "Epoch 39, CIFAR-10 Batch 4:  Loss:     0.2115 Validation Accuracy: 0.508000\n",
      "Epoch 39, CIFAR-10 Batch 5:  Loss:     0.1055 Validation Accuracy: 0.562400\n",
      "Epoch 40, CIFAR-10 Batch 1:  Loss:     0.0030 Validation Accuracy: 0.563600\n",
      "Epoch 40, CIFAR-10 Batch 2:  Loss:     0.2350 Validation Accuracy: 0.508600\n",
      "Epoch 40, CIFAR-10 Batch 3:  Loss:     0.1171 Validation Accuracy: 0.525600\n",
      "Epoch 40, CIFAR-10 Batch 4:  Loss:     0.0000 Validation Accuracy: 0.533400\n",
      "Epoch 40, CIFAR-10 Batch 5:  Loss:     0.0006 Validation Accuracy: 0.572800\n",
      "Epoch 41, CIFAR-10 Batch 1:  Loss:     0.1126 Validation Accuracy: 0.559200\n",
      "Epoch 41, CIFAR-10 Batch 2:  Loss:     0.0108 Validation Accuracy: 0.498400\n",
      "Epoch 41, CIFAR-10 Batch 3:  Loss:     0.0000 Validation Accuracy: 0.547400\n",
      "Epoch 41, CIFAR-10 Batch 4:  Loss:     0.3691 Validation Accuracy: 0.521800\n",
      "Epoch 41, CIFAR-10 Batch 5:  Loss:     0.6910 Validation Accuracy: 0.538800\n",
      "Epoch 42, CIFAR-10 Batch 1:  Loss:     0.2829 Validation Accuracy: 0.569400\n",
      "Epoch 42, CIFAR-10 Batch 2:  Loss:     0.4319 Validation Accuracy: 0.539200\n",
      "Epoch 42, CIFAR-10 Batch 3:  Loss:     0.0007 Validation Accuracy: 0.528200\n",
      "Epoch 42, CIFAR-10 Batch 4:  Loss:     0.0000 Validation Accuracy: 0.529200\n",
      "Epoch 42, CIFAR-10 Batch 5:  Loss:     0.0000 Validation Accuracy: 0.573000\n",
      "Epoch 43, CIFAR-10 Batch 1:  Loss:     0.0000 Validation Accuracy: 0.558200\n",
      "Epoch 43, CIFAR-10 Batch 2:  Loss:     0.0000 Validation Accuracy: 0.544000\n",
      "Epoch 43, CIFAR-10 Batch 3:  Loss:     0.0000 Validation Accuracy: 0.542600\n",
      "Epoch 43, CIFAR-10 Batch 4:  Loss:     0.2148 Validation Accuracy: 0.524800\n",
      "Epoch 43, CIFAR-10 Batch 5:  Loss:     0.0199 Validation Accuracy: 0.560400\n",
      "Epoch 44, CIFAR-10 Batch 1:  Loss:     0.6508 Validation Accuracy: 0.532400\n"
     ]
    },
    {
     "name": "stdout",
     "output_type": "stream",
     "text": [
      "Epoch 44, CIFAR-10 Batch 2:  Loss:     0.0000 Validation Accuracy: 0.493200\n",
      "Epoch 44, CIFAR-10 Batch 3:  Loss:     0.0000 Validation Accuracy: 0.544200\n",
      "Epoch 44, CIFAR-10 Batch 4:  Loss:     0.0000 Validation Accuracy: 0.523800\n",
      "Epoch 44, CIFAR-10 Batch 5:  Loss:     0.2364 Validation Accuracy: 0.538600\n",
      "Epoch 45, CIFAR-10 Batch 1:  Loss:     0.0000 Validation Accuracy: 0.549800\n",
      "Epoch 45, CIFAR-10 Batch 2:  Loss:     0.0178 Validation Accuracy: 0.551600\n",
      "Epoch 45, CIFAR-10 Batch 3:  Loss:     0.0467 Validation Accuracy: 0.561200\n",
      "Epoch 45, CIFAR-10 Batch 4:  Loss:     0.0000 Validation Accuracy: 0.552200\n",
      "Epoch 45, CIFAR-10 Batch 5:  Loss:     0.1421 Validation Accuracy: 0.547400\n",
      "Epoch 46, CIFAR-10 Batch 1:  Loss:     0.0000 Validation Accuracy: 0.537800\n",
      "Epoch 46, CIFAR-10 Batch 2:  Loss:     0.0000 Validation Accuracy: 0.538600\n",
      "Epoch 46, CIFAR-10 Batch 3:  Loss:     0.0000 Validation Accuracy: 0.555600\n",
      "Epoch 46, CIFAR-10 Batch 4:  Loss:     0.0000 Validation Accuracy: 0.542000\n",
      "Epoch 46, CIFAR-10 Batch 5:  Loss:     0.0041 Validation Accuracy: 0.539400\n",
      "Epoch 47, CIFAR-10 Batch 1:  Loss:     0.0000 Validation Accuracy: 0.546200\n",
      "Epoch 47, CIFAR-10 Batch 2:  Loss:     0.0000 Validation Accuracy: 0.544200\n",
      "Epoch 47, CIFAR-10 Batch 3:  Loss:     0.2629 Validation Accuracy: 0.560000\n",
      "Epoch 47, CIFAR-10 Batch 4:  Loss:     0.1689 Validation Accuracy: 0.541200\n",
      "Epoch 47, CIFAR-10 Batch 5:  Loss:     0.0012 Validation Accuracy: 0.559800\n",
      "Epoch 48, CIFAR-10 Batch 1:  Loss:     0.0003 Validation Accuracy: 0.536400\n",
      "Epoch 48, CIFAR-10 Batch 2:  Loss:     0.0000 Validation Accuracy: 0.548000\n",
      "Epoch 48, CIFAR-10 Batch 3:  Loss:     0.0000 Validation Accuracy: 0.566000\n",
      "Epoch 48, CIFAR-10 Batch 4:  Loss:     0.0003 Validation Accuracy: 0.546000\n",
      "Epoch 48, CIFAR-10 Batch 5:  Loss:     0.0934 Validation Accuracy: 0.550600\n",
      "Epoch 49, CIFAR-10 Batch 1:  Loss:     0.0419 Validation Accuracy: 0.529600\n",
      "Epoch 49, CIFAR-10 Batch 2:  Loss:     0.0000 Validation Accuracy: 0.546600\n",
      "Epoch 49, CIFAR-10 Batch 3:  Loss:     0.0000 Validation Accuracy: 0.558600\n",
      "Epoch 49, CIFAR-10 Batch 4:  Loss:     0.0000 Validation Accuracy: 0.552200\n",
      "Epoch 49, CIFAR-10 Batch 5:  Loss:     0.2041 Validation Accuracy: 0.560400\n",
      "Epoch 50, CIFAR-10 Batch 1:  Loss:     0.3750 Validation Accuracy: 0.541400\n",
      "Epoch 50, CIFAR-10 Batch 2:  Loss:     0.0000 Validation Accuracy: 0.525800\n",
      "Epoch 50, CIFAR-10 Batch 3:  Loss:     0.0000 Validation Accuracy: 0.561200\n",
      "Epoch 50, CIFAR-10 Batch 4:  Loss:     0.0378 Validation Accuracy: 0.544000\n",
      "Epoch 50, CIFAR-10 Batch 5:  Loss:     0.0000 Validation Accuracy: 0.550800\n"
     ]
    }
   ],
   "source": [
    "\"\"\"\n",
    "DON'T MODIFY ANYTHING IN THIS CELL\n",
    "\"\"\"\n",
    "save_model_path = './image_classification'\n",
    "\n",
    "print('Training...')\n",
    "with tf.Session() as sess:\n",
    "    # Initializing the variables\n",
    "    sess.run(tf.global_variables_initializer())\n",
    "    \n",
    "    # Training cycle\n",
    "    for epoch in range(epochs):\n",
    "        # Loop over all batches\n",
    "        n_batches = 5\n",
    "        for batch_i in range(1, n_batches + 1):\n",
    "            for batch_features, batch_labels in helper.load_preprocess_training_batch(batch_i, batch_size):\n",
    "                train_neural_network(sess, optimizer, keep_probability, batch_features, batch_labels)\n",
    "            print('Epoch {:>2}, CIFAR-10 Batch {}:  '.format(epoch + 1, batch_i), end='')\n",
    "            print_stats(sess, batch_features, batch_labels, cost, accuracy)\n",
    "            \n",
    "    # Save Model\n",
    "    saver = tf.train.Saver()\n",
    "    save_path = saver.save(sess, save_model_path)"
   ]
  },
  {
   "cell_type": "markdown",
   "metadata": {},
   "source": [
    "# Checkpoint\n",
    "The model has been saved to disk.\n",
    "## Test Model\n",
    "Test your model against the test dataset.  This will be your final accuracy. You should have an accuracy greater than 50%. If you don't, keep tweaking the model architecture and parameters."
   ]
  },
  {
   "cell_type": "code",
   "execution_count": 230,
   "metadata": {},
   "outputs": [
    {
     "name": "stdout",
     "output_type": "stream",
     "text": [
      "INFO:tensorflow:Restoring parameters from ./image_classification\n",
      "Testing Accuracy: 0.5484375\n",
      "\n"
     ]
    },
    {
     "data": {
      "image/png": "[encoded data removed]",
      "text/plain": [
       "<matplotlib.figure.Figure at 0x7f052ffebfd0>"
      ]
     },
     "metadata": {
      "image/png": {
       "height": 319,
       "width": 349
      }
     },
     "output_type": "display_data"
    }
   ],
   "source": [
    "\"\"\"\n",
    "DON'T MODIFY ANYTHING IN THIS CELL\n",
    "\"\"\"\n",
    "%matplotlib inline\n",
    "%config InlineBackend.figure_format = 'retina'\n",
    "\n",
    "import tensorflow as tf\n",
    "import pickle\n",
    "import helper\n",
    "import random\n",
    "\n",
    "# Set batch size if not already set\n",
    "try:\n",
    "    if batch_size:\n",
    "        pass\n",
    "except NameError:\n",
    "    batch_size = 64\n",
    "\n",
    "save_model_path = './image_classification'\n",
    "n_samples = 4\n",
    "top_n_predictions = 3\n",
    "\n",
    "def test_model():\n",
    "    \"\"\"\n",
    "    Test the saved model against the test dataset\n",
    "    \"\"\"\n",
    "\n",
    "    test_features, test_labels = pickle.load(open('preprocess_test.p', mode='rb'))\n",
    "    loaded_graph = tf.Graph()\n",
    "\n",
    "    with tf.Session(graph=loaded_graph) as sess:\n",
    "        # Load model\n",
    "        loader = tf.train.import_meta_graph(save_model_path + '.meta')\n",
    "        loader.restore(sess, save_model_path)\n",
    "\n",
    "        # Get Tensors from loaded model\n",
    "        loaded_x = loaded_graph.get_tensor_by_name('x:0')\n",
    "        loaded_y = loaded_graph.get_tensor_by_name('y:0')\n",
    "        loaded_keep_prob = loaded_graph.get_tensor_by_name('keep_prob:0')\n",
    "        loaded_logits = loaded_graph.get_tensor_by_name('logits:0')\n",
    "        loaded_acc = loaded_graph.get_tensor_by_name('accuracy:0')\n",
    "        \n",
    "        # Get accuracy in batches for memory limitations\n",
    "        test_batch_acc_total = 0\n",
    "        test_batch_count = 0\n",
    "        \n",
    "        for test_feature_batch, test_label_batch in helper.batch_features_labels(test_features, test_labels, batch_size):\n",
    "            test_batch_acc_total += sess.run(\n",
    "                loaded_acc,\n",
    "                feed_dict={loaded_x: test_feature_batch, loaded_y: test_label_batch, loaded_keep_prob: 1.0})\n",
    "            test_batch_count += 1\n",
    "\n",
    "        print('Testing Accuracy: {}\\n'.format(test_batch_acc_total/test_batch_count))\n",
    "\n",
    "        # Print Random Samples\n",
    "        random_test_features, random_test_labels = tuple(zip(*random.sample(list(zip(test_features, test_labels)), n_samples)))\n",
    "        random_test_predictions = sess.run(\n",
    "            tf.nn.top_k(tf.nn.softmax(loaded_logits), top_n_predictions),\n",
    "            feed_dict={loaded_x: random_test_features, loaded_y: random_test_labels, loaded_keep_prob: 1.0})\n",
    "        helper.display_image_predictions(random_test_features, random_test_labels, random_test_predictions)\n",
    "\n",
    "\n",
    "test_model()"
   ]
  },
  {
   "cell_type": "markdown",
   "metadata": {},
   "source": [
    "## Why 50-80% Accuracy?\n",
    "You might be wondering why you can't get an accuracy any higher. First things first, 50% isn't bad for a simple CNN.  Pure guessing would get you 10% accuracy. However, you might notice people are getting scores [well above 80%](http://rodrigob.github.io/are_we_there_yet/build/classification_datasets_results.html#43494641522d3130).  That's because we haven't taught you all there is to know about neural networks. We still need to cover a few more techniques.\n",
    "## Submitting This Project\n",
    "When submitting this project, make sure to run all the cells before saving the notebook.  Save the notebook file as \"dlnd_image_classification.ipynb\" and save it as a HTML file under \"File\" -> \"Download as\".  Include the \"helper.py\" and \"problem_unittests.py\" files in your submission."
   ]
  }
 ],
 "metadata": {
  "kernelspec": {
   "display_name": "Python 3",
   "language": "python",
   "name": "python3"
  },
  "language_info": {
   "codemirror_mode": {
    "name": "ipython",
    "version": 3
   },
   "file_extension": ".py",
   "mimetype": "text/x-python",
   "name": "python",
   "nbconvert_exporter": "python",
   "pygments_lexer": "ipython3",
   "version": "3.6.3"
  }
 },
 "nbformat": 4,
 "nbformat_minor": 1
}
