{
 "cells": [
  {
   "cell_type": "markdown",
   "metadata": {
    "collapsed": true
   },
   "source": [
    "# Image Classification\n",
    "In this project, you'll classify images from the [CIFAR-10 dataset](https://www.cs.toronto.edu/~kriz/cifar.html).  The dataset consists of airplanes, dogs, cats, and other objects. You'll preprocess the images, then train a convolutional neural network on all the samples. The images need to be normalized and the labels need to be one-hot encoded.  You'll get to apply what you learned and build a convolutional, max pooling, dropout, and fully connected layers.  At the end, you'll get to see your neural network's predictions on the sample images.\n",
    "## Get the Data\n",
    "Run the following cell to download the [CIFAR-10 dataset for python](https://www.cs.toronto.edu/~kriz/cifar-10-python.tar.gz)."
   ]
  },
  {
   "cell_type": "code",
   "execution_count": 119,
   "metadata": {},
   "outputs": [
    {
     "name": "stdout",
     "output_type": "stream",
     "text": [
      "All files found!\n"
     ]
    }
   ],
   "source": [
    "\"\"\"\n",
    "DON'T MODIFY ANYTHING IN THIS CELL THAT IS BELOW THIS LINE\n",
    "\"\"\"\n",
    "from urllib.request import urlretrieve\n",
    "from os.path import isfile, isdir\n",
    "from tqdm import tqdm\n",
    "import problem_unittests as tests\n",
    "import tarfile\n",
    "\n",
    "cifar10_dataset_folder_path = 'cifar-10-batches-py'\n",
    "\n",
    "# Use Floyd's cifar-10 dataset if present\n",
    "floyd_cifar10_location = '/cifar/cifar-10-python.tar.gz'\n",
    "if isfile(floyd_cifar10_location):\n",
    "    tar_gz_path = floyd_cifar10_location\n",
    "else:\n",
    "    tar_gz_path = 'cifar-10-python.tar.gz'\n",
    "\n",
    "class DLProgress(tqdm):\n",
    "    last_block = 0\n",
    "\n",
    "    def hook(self, block_num=1, block_size=1, total_size=None):\n",
    "        self.total = total_size\n",
    "        self.update((block_num - self.last_block) * block_size)\n",
    "        self.last_block = block_num\n",
    "\n",
    "if not isfile(tar_gz_path):\n",
    "    with DLProgress(unit='B', unit_scale=True, miniters=1, desc='CIFAR-10 Dataset') as pbar:\n",
    "        urlretrieve(\n",
    "            'https://www.cs.toronto.edu/~kriz/cifar-10-python.tar.gz',\n",
    "            tar_gz_path,\n",
    "            pbar.hook)\n",
    "\n",
    "if not isdir(cifar10_dataset_folder_path):\n",
    "    with tarfile.open(tar_gz_path) as tar:\n",
    "        tar.extractall()\n",
    "        tar.close()\n",
    "\n",
    "\n",
    "tests.test_folder_path(cifar10_dataset_folder_path)"
   ]
  },
  {
   "cell_type": "markdown",
   "metadata": {},
   "source": [
    "## Explore the Data\n",
    "The dataset is broken into batches to prevent your machine from running out of memory.  The CIFAR-10 dataset consists of 5 batches, named `data_batch_1`, `data_batch_2`, etc.. Each batch contains the labels and images that are one of the following:\n",
    "* airplane\n",
    "* automobile\n",
    "* bird\n",
    "* cat\n",
    "* deer\n",
    "* dog\n",
    "* frog\n",
    "* horse\n",
    "* ship\n",
    "* truck\n",
    "\n",
    "Understanding a dataset is part of making predictions on the data.  Play around with the code cell below by changing the `batch_id` and `sample_id`. The `batch_id` is the id for a batch (1-5). The `sample_id` is the id for a image and label pair in the batch.\n",
    "\n",
    "Ask yourself \"What are all possible labels?\", \"What is the range of values for the image data?\", \"Are the labels in order or random?\".  Answers to questions like these will help you preprocess the data and end up with better predictions."
   ]
  },
  {
   "cell_type": "code",
   "execution_count": 120,
   "metadata": {},
   "outputs": [
    {
     "name": "stdout",
     "output_type": "stream",
     "text": [
      "\n",
      "Stats of batch 4:\n",
      "Samples: 10000\n",
      "Label Counts: {0: 1003, 1: 963, 2: 1041, 3: 976, 4: 1004, 5: 1021, 6: 1004, 7: 981, 8: 1024, 9: 983}\n",
      "First 20 Labels: [0, 6, 0, 2, 7, 2, 1, 2, 4, 1, 5, 6, 6, 3, 1, 3, 5, 5, 8, 1]\n",
      "\n",
      "Example of Image 5:\n",
      "Image - Min Value: 13 Max Value: 169\n",
      "Image - Shape: (32, 32, 3)\n",
      "Label - Label Id: 2 Name: bird\n"
     ]
    },
    {
     "data": {
      "image/png": "[encoded data removed]",
      "text/plain": [
       "<matplotlib.figure.Figure at 0x7f6b0467a780>"
      ]
     },
     "metadata": {
      "image/png": {
       "height": 250,
       "width": 253
      }
     },
     "output_type": "display_data"
    }
   ],
   "source": [
    "%matplotlib inline\n",
    "%config InlineBackend.figure_format = 'retina'\n",
    "\n",
    "import helper\n",
    "import numpy as np\n",
    "\n",
    "# Explore the dataset\n",
    "batch_id = 4\n",
    "sample_id = 5\n",
    "helper.display_stats(cifar10_dataset_folder_path, batch_id, sample_id)"
   ]
  },
  {
   "cell_type": "markdown",
   "metadata": {},
   "source": [
    "## Implement Preprocess Functions\n",
    "### Normalize\n",
    "In the cell below, implement the `normalize` function to take in image data, `x`, and return it as a normalized Numpy array. The values should be in the range of 0 to 1, inclusive.  The return object should be the same shape as `x`."
   ]
  },
  {
   "cell_type": "code",
   "execution_count": 121,
   "metadata": {},
   "outputs": [
    {
     "name": "stdout",
     "output_type": "stream",
     "text": [
      "Tests Passed\n"
     ]
    }
   ],
   "source": [
    "def normalize(x):\n",
    "    \"\"\"\n",
    "    Normalize a list of sample image data in the range of 0 to 1\n",
    "    : x: List of image data.  The image shape is (32, 32, 3)\n",
    "    : return: Numpy array of normalize data\n",
    "    \"\"\"\n",
    "    # TODO: Implement Function\n",
    "    #The input is an image,so pixel values would be in 0-255. Normalize by dividing by 255 and get a greyscale image\n",
    "    normalized_data = np.array(x/255)\n",
    "    return normalized_data\n",
    "\n",
    "\n",
    "\"\"\"\n",
    "DON'T MODIFY ANYTHING IN THIS CELL THAT IS BELOW THIS LINE\n",
    "\"\"\"\n",
    "tests.test_normalize(normalize)"
   ]
  },
  {
   "cell_type": "markdown",
   "metadata": {},
   "source": [
    "### One-hot encode\n",
    "Just like the previous code cell, you'll be implementing a function for preprocessing.  This time, you'll implement the `one_hot_encode` function. The input, `x`, are a list of labels.  Implement the function to return the list of labels as One-Hot encoded Numpy array.  The possible values for labels are 0 to 9. The one-hot encoding function should return the same encoding for each value between each call to `one_hot_encode`.  Make sure to save the map of encodings outside the function.\n",
    "\n",
    "Hint: Don't reinvent the wheel."
   ]
  },
  {
   "cell_type": "code",
   "execution_count": 122,
   "metadata": {},
   "outputs": [
    {
     "name": "stdout",
     "output_type": "stream",
     "text": [
      "Tests Passed\n"
     ]
    }
   ],
   "source": [
    "def one_hot_encode(x):\n",
    "    \"\"\"\n",
    "    One hot encode a list of sample labels. Return a one-hot encoded vector for each label.\n",
    "    : x: List of sample Labels\n",
    "    : return: Numpy array of one-hot encoded labels\n",
    "    \"\"\"\n",
    "    # Input is a 1D list of labels.\n",
    "    # Output is a 2D array, where each row has a 1 against the label for that row\n",
    "    # Big assumption is that labels are between 0 and 9. If that breaks, this function won't work\n",
    "    # Validations here\n",
    "    for label in x:\n",
    "        if label < 0 or label > 9:\n",
    "            raise ValueError(\"Labels are wrong for 1-hot encoding. Expected in 0-9 range\")\n",
    "    oneHotArray = np.zeros([len(x), 10])\n",
    "    for i in range(0, len(x)):\n",
    "        oneHotArray[i][x[i]] = 1\n",
    "    return oneHotArray\n",
    "\n",
    "\n",
    "\"\"\"\n",
    "DON'T MODIFY ANYTHING IN THIS CELL THAT IS BELOW THIS LINE\n",
    "\"\"\"\n",
    "tests.test_one_hot_encode(one_hot_encode)"
   ]
  },
  {
   "cell_type": "markdown",
   "metadata": {},
   "source": [
    "### Randomize Data\n",
    "As you saw from exploring the data above, the order of the samples are randomized.  It doesn't hurt to randomize it again, but you don't need to for this dataset."
   ]
  },
  {
   "cell_type": "markdown",
   "metadata": {},
   "source": [
    "## Preprocess all the data and save it\n",
    "Running the code cell below will preprocess all the CIFAR-10 data and save it to file. The code below also uses 10% of the training data for validation."
   ]
  },
  {
   "cell_type": "code",
   "execution_count": 123,
   "metadata": {},
   "outputs": [],
   "source": [
    "\"\"\"\n",
    "DON'T MODIFY ANYTHING IN THIS CELL\n",
    "\"\"\"\n",
    "# Preprocess Training, Validation, and Testing Data\n",
    "helper.preprocess_and_save_data(cifar10_dataset_folder_path, normalize, one_hot_encode)"
   ]
  },
  {
   "cell_type": "markdown",
   "metadata": {},
   "source": [
    "# Check Point\n",
    "This is your first checkpoint.  If you ever decide to come back to this notebook or have to restart the notebook, you can start from here.  The preprocessed data has been saved to disk."
   ]
  },
  {
   "cell_type": "code",
   "execution_count": 124,
   "metadata": {},
   "outputs": [],
   "source": [
    "\"\"\"\n",
    "DON'T MODIFY ANYTHING IN THIS CELL\n",
    "\"\"\"\n",
    "import pickle\n",
    "import problem_unittests as tests\n",
    "import helper\n",
    "\n",
    "# Load the Preprocessed Validation data\n",
    "valid_features, valid_labels = pickle.load(open('preprocess_validation.p', mode='rb'))"
   ]
  },
  {
   "cell_type": "markdown",
   "metadata": {},
   "source": [
    "## Build the network\n",
    "For the neural network, you'll build each layer into a function.  Most of the code you've seen has been outside of functions. To test your code more thoroughly, we require that you put each layer in a function.  This allows us to give you better feedback and test for simple mistakes using our unittests before you submit your project.\n",
    "\n",
    ">**Note:** If you're finding it hard to dedicate enough time for this course each week, we've provided a small shortcut to this part of the project. In the next couple of problems, you'll have the option to use classes from the [TensorFlow Layers](https://www.tensorflow.org/api_docs/python/tf/layers) or [TensorFlow Layers (contrib)](https://www.tensorflow.org/api_guides/python/contrib.layers) packages to build each layer, except the layers you build in the \"Convolutional and Max Pooling Layer\" section.  TF Layers is similar to Keras's and TFLearn's abstraction to layers, so it's easy to pickup.\n",
    "\n",
    ">However, if you would like to get the most out of this course, try to solve all the problems _without_ using anything from the TF Layers packages. You **can** still use classes from other packages that happen to have the same name as ones you find in TF Layers! For example, instead of using the TF Layers version of the `conv2d` class, [tf.layers.conv2d](https://www.tensorflow.org/api_docs/python/tf/layers/conv2d), you would want to use the TF Neural Network version of `conv2d`, [tf.nn.conv2d](https://www.tensorflow.org/api_docs/python/tf/nn/conv2d). \n",
    "\n",
    "Let's begin!\n",
    "\n",
    "### Input\n",
    "The neural network needs to read the image data, one-hot encoded labels, and dropout keep probability. Implement the following functions\n",
    "* Implement `neural_net_image_input`\n",
    " * Return a [TF Placeholder](https://www.tensorflow.org/api_docs/python/tf/placeholder)\n",
    " * Set the shape using `image_shape` with batch size set to `None`.\n",
    " * Name the TensorFlow placeholder \"x\" using the TensorFlow `name` parameter in the [TF Placeholder](https://www.tensorflow.org/api_docs/python/tf/placeholder).\n",
    "* Implement `neural_net_label_input`\n",
    " * Return a [TF Placeholder](https://www.tensorflow.org/api_docs/python/tf/placeholder)\n",
    " * Set the shape using `n_classes` with batch size set to `None`.\n",
    " * Name the TensorFlow placeholder \"y\" using the TensorFlow `name` parameter in the [TF Placeholder](https://www.tensorflow.org/api_docs/python/tf/placeholder).\n",
    "* Implement `neural_net_keep_prob_input`\n",
    " * Return a [TF Placeholder](https://www.tensorflow.org/api_docs/python/tf/placeholder) for dropout keep probability.\n",
    " * Name the TensorFlow placeholder \"keep_prob\" using the TensorFlow `name` parameter in the [TF Placeholder](https://www.tensorflow.org/api_docs/python/tf/placeholder).\n",
    "\n",
    "These names will be used at the end of the project to load your saved model.\n",
    "\n",
    "Note: `None` for shapes in TensorFlow allow for a dynamic size."
   ]
  },
  {
   "cell_type": "code",
   "execution_count": 125,
   "metadata": {},
   "outputs": [],
   "source": [
    "import tensorflow as tf\n",
    "from tensorflow.python.layers import layers"
   ]
  },
  {
   "cell_type": "code",
   "execution_count": 126,
   "metadata": {},
   "outputs": [
    {
     "name": "stdout",
     "output_type": "stream",
     "text": [
      "Image Input Tests Passed.\n",
      "Label Input Tests Passed.\n",
      "Keep Prob Tests Passed.\n"
     ]
    }
   ],
   "source": [
    "def neural_net_image_input(image_shape):\n",
    "    \"\"\"\n",
    "    Return a Tensor for a batch of image input\n",
    "    : image_shape: Shape of the images\n",
    "    : return: Tensor for image input.\n",
    "    \"\"\"\n",
    "    # TODO: Implement Function\n",
    "    return tf.placeholder(tf.float32, name='x', shape = [None, image_shape[0],image_shape[1],image_shape[2]])\n",
    "\n",
    "\n",
    "def neural_net_label_input(n_classes):\n",
    "    \"\"\"\n",
    "    Return a Tensor for a batch of label input\n",
    "    : n_classes: Number of classes\n",
    "    : return: Tensor for label input.\n",
    "    \"\"\"\n",
    "    # TODO: Implement Function\n",
    "    return tf.placeholder(tf.float32, name='y', shape = [None, n_classes])\n",
    "\n",
    "\n",
    "def neural_net_keep_prob_input():\n",
    "    \"\"\"\n",
    "    Return a Tensor for keep probability\n",
    "    : return: Tensor for keep probability.\n",
    "    \"\"\"\n",
    "    # TODO: Implement Function\n",
    "    return tf.placeholder(tf.float32, name='keep_prob')\n",
    "\n",
    "\n",
    "\"\"\"\n",
    "DON'T MODIFY ANYTHING IN THIS CELL THAT IS BELOW THIS LINE\n",
    "\"\"\"\n",
    "tf.reset_default_graph()\n",
    "tests.test_nn_image_inputs(neural_net_image_input)\n",
    "tests.test_nn_label_inputs(neural_net_label_input)\n",
    "tests.test_nn_keep_prob_inputs(neural_net_keep_prob_input)"
   ]
  },
  {
   "cell_type": "markdown",
   "metadata": {},
   "source": [
    "### Convolution and Max Pooling Layer\n",
    "Convolution layers have a lot of success with images. For this code cell, you should implement the function `conv2d_maxpool` to apply convolution then max pooling:\n",
    "* Create the weight and bias using `conv_ksize`, `conv_num_outputs` and the shape of `x_tensor`.\n",
    "* Apply a convolution to `x_tensor` using weight and `conv_strides`.\n",
    " * We recommend you use same padding, but you're welcome to use any padding.\n",
    "* Add bias\n",
    "* Add a nonlinear activation to the convolution.\n",
    "* Apply Max Pooling using `pool_ksize` and `pool_strides`.\n",
    " * We recommend you use same padding, but you're welcome to use any padding.\n",
    "\n",
    "**Note:** You **can't** use [TensorFlow Layers](https://www.tensorflow.org/api_docs/python/tf/layers) or [TensorFlow Layers (contrib)](https://www.tensorflow.org/api_guides/python/contrib.layers) for **this** layer, but you can still use TensorFlow's [Neural Network](https://www.tensorflow.org/api_docs/python/tf/nn) package. You may still use the shortcut option for all the **other** layers."
   ]
  },
  {
   "cell_type": "code",
   "execution_count": 127,
   "metadata": {},
   "outputs": [
    {
     "name": "stdout",
     "output_type": "stream",
     "text": [
      "(?, 32, 32, 5)\n",
      "Tests Passed\n"
     ]
    }
   ],
   "source": [
    "def conv2d_maxpool(x_tensor, conv_num_outputs, conv_ksize, conv_strides, pool_ksize, pool_strides):\n",
    "    \"\"\"\n",
    "    Apply convolution then max pooling to x_tensor\n",
    "    :param x_tensor: TensorFlow Tensor\n",
    "    :param conv_num_outputs: Number of outputs for the convolutional layer\n",
    "    :param conv_ksize: kernal size 2-D Tuple for the convolutional layer\n",
    "    :param conv_strides: Stride 2-D Tuple for convolution\n",
    "    :param pool_ksize: kernal size 2-D Tuple for pool\n",
    "    :param pool_strides: Stride 2-D Tuple for pool\n",
    "    : return: A tensor that represents convolution and max pooling of x_tensor\n",
    "    \"\"\"\n",
    "    # TODO: Implement Function\n",
    "    #Create weights for the patch. Here patch is called the conv kernel, so use its size.\n",
    "    # We are convolving from input depth of x_tensor's 3rd dimension value to the number of outputs for conv layer.\n",
    "    print(x_tensor.shape)\n",
    "    \n",
    "    #Initialize weights using a lower std deviation. This should help with faster convergence.\n",
    "    weights = tf.Variable(tf.truncated_normal(\n",
    "        [conv_ksize[0], conv_ksize[1], x_tensor.shape.as_list()[3], conv_num_outputs], stddev=0.1), dtype=tf.float32)\n",
    "    \n",
    "    #Define a bias value. Try reducing the deviation for bias too\n",
    "    bias = tf.Variable(tf.zeros([conv_num_outputs]), dtype=tf.float32)\n",
    "    \n",
    "    #Set up the convolution layer\n",
    "    conv = tf.nn.conv2d(x_tensor,\n",
    "                        weights,\n",
    "                        strides=[1, conv_strides[0],conv_strides[1], 1],\n",
    "                        padding='SAME')\n",
    "    #Add a bias layer\n",
    "    conv = tf.nn.bias_add(conv, bias)\n",
    "    \n",
    "    # Add a non-linear activation\n",
    "    conv = tf.nn.relu(conv)\n",
    "    \n",
    "    #Set up max pool\n",
    "    conv = tf.nn.max_pool(conv,\n",
    "                          ksize=[1, pool_ksize[0], pool_ksize[1], 1],\n",
    "                          strides=[1, pool_strides[0],pool_strides[1], 1],\n",
    "                          padding='SAME')\n",
    "    return conv \n",
    "\n",
    "\n",
    "\"\"\"\n",
    "DON'T MODIFY ANYTHING IN THIS CELL THAT IS BELOW THIS LINE\n",
    "\"\"\"\n",
    "tests.test_con_pool(conv2d_maxpool)"
   ]
  },
  {
   "cell_type": "markdown",
   "metadata": {},
   "source": [
    "### Flatten Layer\n",
    "Implement the `flatten` function to change the dimension of `x_tensor` from a 4-D tensor to a 2-D tensor.  The output should be the shape (*Batch Size*, *Flattened Image Size*). Shortcut option: you can use classes from the [TensorFlow Layers](https://www.tensorflow.org/api_docs/python/tf/layers) or [TensorFlow Layers (contrib)](https://www.tensorflow.org/api_guides/python/contrib.layers) packages for this layer. For more of a challenge, only use other TensorFlow packages."
   ]
  },
  {
   "cell_type": "code",
   "execution_count": 128,
   "metadata": {},
   "outputs": [
    {
     "name": "stdout",
     "output_type": "stream",
     "text": [
      "Tests Passed\n"
     ]
    }
   ],
   "source": [
    "def flatten(x_tensor):\n",
    "    \"\"\"\n",
    "    Flatten x_tensor to (Batch Size, Flattened Image Size)\n",
    "    : x_tensor: A tensor of size (Batch Size, ...), where ... are the image dimensions.\n",
    "    : return: A tensor of size (Batch Size, Flattened Image Size).\n",
    "    \"\"\"\n",
    "    # TODO: Implement Function  \n",
    "    return layers.flatten(x_tensor)\n",
    "\n",
    "\n",
    "\"\"\"\n",
    "DON'T MODIFY ANYTHING IN THIS CELL THAT IS BELOW THIS LINE\n",
    "\"\"\"\n",
    "\n",
    "tests.test_flatten(flatten)"
   ]
  },
  {
   "cell_type": "markdown",
   "metadata": {},
   "source": [
    "### Fully-Connected Layer\n",
    "Implement the `fully_conn` function to apply a fully connected layer to `x_tensor` with the shape (*Batch Size*, *num_outputs*). Shortcut option: you can use classes from the [TensorFlow Layers](https://www.tensorflow.org/api_docs/python/tf/layers) or [TensorFlow Layers (contrib)](https://www.tensorflow.org/api_guides/python/contrib.layers) packages for this layer. For more of a challenge, only use other TensorFlow packages."
   ]
  },
  {
   "cell_type": "code",
   "execution_count": 129,
   "metadata": {},
   "outputs": [
    {
     "name": "stdout",
     "output_type": "stream",
     "text": [
      "Tests Passed\n"
     ]
    }
   ],
   "source": [
    "def fully_conn(x_tensor, num_outputs):\n",
    "    \"\"\"\n",
    "    Apply a fully connected layer to x_tensor using weight and bias\n",
    "    : x_tensor: A 2-D tensor where the first dimension is batch size.\n",
    "    : num_outputs: The number of output that the new tensor should be.\n",
    "    : return: A 2-D tensor where the second dimension is num_outputs.\n",
    "    \"\"\"\n",
    "    # TODO: Implement Function\n",
    "    #We get a flattened tensor as input to the dense layer. Use its y-axis for weights\n",
    "    tensor_shape = x_tensor.shape.as_list()\n",
    "    weights = tf.Variable(tf.truncated_normal([tensor_shape[1],num_outputs], stddev=0.1), dtype=tf.float32)\n",
    "    bias = tf.Variable(tf.zeros([num_outputs]), dtype=tf.float32)\n",
    "    \n",
    "    return tf.nn.relu(tf.add(tf.matmul(x_tensor, weights), bias))\n",
    "\n",
    "\n",
    "\n",
    "\"\"\"\n",
    "DON'T MODIFY ANYTHING IN THIS CELL THAT IS BELOW THIS LINE\n",
    "\"\"\"\n",
    "tests.test_fully_conn(fully_conn)"
   ]
  },
  {
   "cell_type": "markdown",
   "metadata": {},
   "source": [
    "### Output Layer\n",
    "Implement the `output` function to apply a fully connected layer to `x_tensor` with the shape (*Batch Size*, *num_outputs*). Shortcut option: you can use classes from the [TensorFlow Layers](https://www.tensorflow.org/api_docs/python/tf/layers) or [TensorFlow Layers (contrib)](https://www.tensorflow.org/api_guides/python/contrib.layers) packages for this layer. For more of a challenge, only use other TensorFlow packages.\n",
    "\n",
    "**Note:** Activation, softmax, or cross entropy should **not** be applied to this."
   ]
  },
  {
   "cell_type": "code",
   "execution_count": 130,
   "metadata": {},
   "outputs": [
    {
     "name": "stdout",
     "output_type": "stream",
     "text": [
      "Tests Passed\n"
     ]
    }
   ],
   "source": [
    "def output(x_tensor, num_outputs):\n",
    "    \"\"\"\n",
    "    Apply a output layer to x_tensor using weight and bias\n",
    "    : x_tensor: A 2-D tensor where the first dimension is batch size.\n",
    "    : num_outputs: The number of output that the new tensor should be.\n",
    "    : return: A 2-D tensor where the second dimension is num_outputs.\n",
    "    \"\"\"\n",
    "    # Simple matmul and output y = wx +b\n",
    "    weights = tf.Variable(tf.truncated_normal([x_tensor.shape.as_list()[1], num_outputs], stddev=0.1), dtype=tf.float32)\n",
    "    bias = tf.Variable(tf.random_normal([num_outputs]), dtype=tf.float32)\n",
    "    return tf.add(tf.matmul(x_tensor, weights), bias)\n",
    "\n",
    "\n",
    "\"\"\"\n",
    "DON'T MODIFY ANYTHING IN THIS CELL THAT IS BELOW THIS LINE\n",
    "\"\"\"\n",
    "tests.test_output(output)"
   ]
  },
  {
   "cell_type": "markdown",
   "metadata": {},
   "source": [
    "### Create Convolutional Model\n",
    "Implement the function `conv_net` to create a convolutional neural network model. The function takes in a batch of images, `x`, and outputs logits.  Use the layers you created above to create this model:\n",
    "\n",
    "* Apply 1, 2, or 3 Convolution and Max Pool layers\n",
    "* Apply a Flatten Layer\n",
    "* Apply 1, 2, or 3 Fully Connected Layers\n",
    "* Apply an Output Layer\n",
    "* Return the output\n",
    "* Apply [TensorFlow's Dropout](https://www.tensorflow.org/api_docs/python/tf/nn/dropout) to one or more layers in the model using `keep_prob`. "
   ]
  },
  {
   "cell_type": "code",
   "execution_count": 131,
   "metadata": {},
   "outputs": [
    {
     "name": "stdout",
     "output_type": "stream",
     "text": [
      "(?, 32, 32, 3)\n",
      "(?, 32, 32, 64)\n",
      "(?, 32, 32, 3)\n",
      "(?, 32, 32, 64)\n",
      "Neural Network Built!\n"
     ]
    }
   ],
   "source": [
    "from tensorflow.python.layers import layers\n",
    "\n",
    "def conv_net(x, keep_prob):\n",
    "    \"\"\"\n",
    "    Create a convolutional neural network model\n",
    "    : x: Placeholder tensor that holds image data.\n",
    "    : keep_prob: Placeholder tensor that hold dropout keep probability.\n",
    "    : return: Tensor that represents logits\n",
    "    \"\"\"\n",
    "    # TODO: Apply 1, 2, or 3 Convolution and Max Pool layers\n",
    "    #    Play around with different number of outputs, kernel size and stride\n",
    "    # Function Definition from Above:\n",
    "    #    conv2d_maxpool(x_tensor, conv_num_outputs, conv_ksize, conv_strides, pool_ksize, pool_strides)\n",
    "    conv = conv2d_maxpool(x, 64,(5,5),(1,1),(2,2),(1,1))\n",
    "    conv = conv2d_maxpool(conv, 256,(3,3),(1,1),(2,2),(1,1))\n",
    "    #conv = conv2d_maxpool(conv, 256, (5,5),(1,1),(2,2),(1,1))\n",
    "\n",
    "    conv = layers.dropout(conv, rate=keep_prob)\n",
    "\n",
    "\n",
    "    # TODO: Apply a Flatten Layer\n",
    "    # Function Definition from Above:\n",
    "    #   flatten(x_tensor)\n",
    "    flat_layer = flatten(conv)\n",
    "\n",
    "    # TODO: Apply 1, 2, or 3 Fully Connected Layers\n",
    "    #    Play around with different number of outputs\n",
    "    # Function Definition from Above:\n",
    "    #   fully_conn(x_tensor, num_outputs)\n",
    "    full_con = fully_conn(flat_layer, 32)\n",
    "    #full_con = fully_conn(full_con, 100)\n",
    "    \n",
    "    #Add a dropout layer  \n",
    "    full_con = layers.dropout(full_con, rate=keep_prob)\n",
    "    # TODO: Apply an Output Layer\n",
    "    #    Set this to the number of classes\n",
    "    # Function Definition from Above:\n",
    "    #   output(x_tensor, num_outputs)\n",
    "    out = output(full_con, 10)\n",
    "    \n",
    "    # TODO: return output\n",
    "    return out\n",
    "\n",
    "\n",
    "\"\"\"\n",
    "DON'T MODIFY ANYTHING IN THIS CELL THAT IS BELOW THIS LINE\n",
    "\"\"\"\n",
    "\n",
    "##############################\n",
    "## Build the Neural Network ##\n",
    "##############################\n",
    "\n",
    "# Remove previous weights, bias, inputs, etc..\n",
    "tf.reset_default_graph()\n",
    "\n",
    "# Inputs\n",
    "x = neural_net_image_input((32, 32, 3))\n",
    "y = neural_net_label_input(10)\n",
    "keep_prob = neural_net_keep_prob_input()\n",
    "\n",
    "# Model\n",
    "logits = conv_net(x, keep_prob)\n",
    "\n",
    "# Name logits Tensor, so that is can be loaded from disk after training\n",
    "logits = tf.identity(logits, name='logits')\n",
    "\n",
    "# Loss and Optimizer\n",
    "cost = tf.reduce_mean(tf.nn.softmax_cross_entropy_with_logits(logits=logits, labels=y))\n",
    "optimizer = tf.train.AdamOptimizer().minimize(cost)\n",
    "\n",
    "# Accuracy\n",
    "correct_pred = tf.equal(tf.argmax(logits, 1), tf.argmax(y, 1))\n",
    "accuracy = tf.reduce_mean(tf.cast(correct_pred, tf.float32), name='accuracy')\n",
    "\n",
    "tests.test_conv_net(conv_net)"
   ]
  },
  {
   "cell_type": "markdown",
   "metadata": {},
   "source": [
    "## Train the Neural Network\n",
    "### Single Optimization\n",
    "Implement the function `train_neural_network` to do a single optimization.  The optimization should use `optimizer` to optimize in `session` with a `feed_dict` of the following:\n",
    "* `x` for image input\n",
    "* `y` for labels\n",
    "* `keep_prob` for keep probability for dropout\n",
    "\n",
    "This function will be called for each batch, so `tf.global_variables_initializer()` has already been called.\n",
    "\n",
    "Note: Nothing needs to be returned. This function is only optimizing the neural network."
   ]
  },
  {
   "cell_type": "code",
   "execution_count": 132,
   "metadata": {},
   "outputs": [
    {
     "name": "stdout",
     "output_type": "stream",
     "text": [
      "Tests Passed\n"
     ]
    }
   ],
   "source": [
    "def train_neural_network(session, optimizer, keep_probability, feature_batch, label_batch):\n",
    "    \"\"\"\n",
    "    Optimize the session on a batch of images and labels\n",
    "    : session: Current TensorFlow session\n",
    "    : optimizer: TensorFlow optimizer function\n",
    "    : keep_probability: keep probability\n",
    "    : feature_batch: Batch of Numpy image data\n",
    "    : label_batch: Batch of Numpy label data\n",
    "    \"\"\"\n",
    "    # TODO: Implement Function\n",
    "    session.run(optimizer, feed_dict = {\n",
    "        x:feature_batch,\n",
    "        y:label_batch,\n",
    "        keep_prob:keep_probability\n",
    "    })\n",
    "\n",
    "\n",
    "\"\"\"\n",
    "DON'T MODIFY ANYTHING IN THIS CELL THAT IS BELOW THIS LINE\n",
    "\"\"\"\n",
    "tests.test_train_nn(train_neural_network)"
   ]
  },
  {
   "cell_type": "markdown",
   "metadata": {},
   "source": [
    "### Show Stats\n",
    "Implement the function `print_stats` to print loss and validation accuracy.  Use the global variables `valid_features` and `valid_labels` to calculate validation accuracy.  Use a keep probability of `1.0` to calculate the loss and validation accuracy."
   ]
  },
  {
   "cell_type": "code",
   "execution_count": 133,
   "metadata": {},
   "outputs": [],
   "source": [
    "def print_stats(session, feature_batch, label_batch, cost, accuracy):\n",
    "    \"\"\"\n",
    "    Print information about loss and validation accuracy\n",
    "    : session: Current TensorFlow session\n",
    "    : feature_batch: Batch of Numpy image data\n",
    "    : label_batch: Batch of Numpy label data\n",
    "    : cost: TensorFlow cost function\n",
    "    : accuracy: TensorFlow accuracy function\n",
    "    \"\"\"\n",
    "    loss = session.run(cost,feed_dict={ x:feature_batch, y:label_batch, keep_prob: 1.0} )\n",
    "    validation_batch_size = 1000\n",
    "    validation_accuracy = session.run(accuracy, feed_dict= {x:valid_features[:validation_batch_size], y: valid_labels[:validation_batch_size], keep_prob: 1.0})\n",
    "    print(\"Loss: {:>10.4f} Validation Accuracy: {:.6f}\".format(loss, validation_accuracy))"
   ]
  },
  {
   "cell_type": "markdown",
   "metadata": {},
   "source": [
    "### Hyperparameters\n",
    "Tune the following parameters:\n",
    "* Set `epochs` to the number of iterations until the network stops learning or start overfitting\n",
    "* Set `batch_size` to the highest number that your machine has memory for.  Most people set them to common sizes of memory:\n",
    " * 64\n",
    " * 128\n",
    " * 256\n",
    " * ...\n",
    "* Set `keep_probability` to the probability of keeping a node using dropout"
   ]
  },
  {
   "cell_type": "code",
   "execution_count": 137,
   "metadata": {},
   "outputs": [],
   "source": [
    "# TODO: Tune Parameters\n",
    "epochs = 30\n",
    "batch_size = 128\n",
    "keep_probability = 0.60"
   ]
  },
  {
   "cell_type": "markdown",
   "metadata": {},
   "source": [
    "### Train on a Single CIFAR-10 Batch\n",
    "Instead of training the neural network on all the CIFAR-10 batches of data, let's use a single batch. This should save time while you iterate on the model to get a better accuracy.  Once the final validation accuracy is 50% or greater, run the model on all the data in the next section."
   ]
  },
  {
   "cell_type": "code",
   "execution_count": 135,
   "metadata": {},
   "outputs": [
    {
     "name": "stdout",
     "output_type": "stream",
     "text": [
      "Checking the Training on a Single Batch...\n",
      "Epoch  1, CIFAR-10 Batch 1:  Loss:     2.2500 Validation Accuracy: 0.139000\n",
      "Epoch  2, CIFAR-10 Batch 1:  Loss:     2.1341 Validation Accuracy: 0.176000\n",
      "Epoch  3, CIFAR-10 Batch 1:  Loss:     2.0325 Validation Accuracy: 0.263000\n",
      "Epoch  4, CIFAR-10 Batch 1:  Loss:     1.9349 Validation Accuracy: 0.294000\n",
      "Epoch  5, CIFAR-10 Batch 1:  Loss:     1.7823 Validation Accuracy: 0.297000\n",
      "Epoch  6, CIFAR-10 Batch 1:  Loss:     1.6739 Validation Accuracy: 0.357000\n",
      "Epoch  7, CIFAR-10 Batch 1:  Loss:     1.4921 Validation Accuracy: 0.354000\n",
      "Epoch  8, CIFAR-10 Batch 1:  Loss:     1.3664 Validation Accuracy: 0.317000\n",
      "Epoch  9, CIFAR-10 Batch 1:  Loss:     1.3368 Validation Accuracy: 0.303000\n",
      "Epoch 10, CIFAR-10 Batch 1:  Loss:     1.2352 Validation Accuracy: 0.317000\n",
      "Epoch 11, CIFAR-10 Batch 1:  Loss:     1.2173 Validation Accuracy: 0.300000\n",
      "Epoch 12, CIFAR-10 Batch 1:  Loss:     1.2267 Validation Accuracy: 0.370000\n",
      "Epoch 13, CIFAR-10 Batch 1:  Loss:     1.3045 Validation Accuracy: 0.359000\n",
      "Epoch 14, CIFAR-10 Batch 1:  Loss:     1.1624 Validation Accuracy: 0.371000\n",
      "Epoch 15, CIFAR-10 Batch 1:  Loss:     1.2315 Validation Accuracy: 0.376000\n",
      "Epoch 16, CIFAR-10 Batch 1:  Loss:     1.1258 Validation Accuracy: 0.343000\n",
      "Epoch 17, CIFAR-10 Batch 1:  Loss:     1.0411 Validation Accuracy: 0.345000\n",
      "Epoch 18, CIFAR-10 Batch 1:  Loss:     1.0350 Validation Accuracy: 0.319000\n",
      "Epoch 19, CIFAR-10 Batch 1:  Loss:     0.9662 Validation Accuracy: 0.328000\n",
      "Epoch 20, CIFAR-10 Batch 1:  Loss:     0.9583 Validation Accuracy: 0.335000\n",
      "Epoch 21, CIFAR-10 Batch 1:  Loss:     0.8576 Validation Accuracy: 0.313000\n",
      "Epoch 22, CIFAR-10 Batch 1:  Loss:     0.8797 Validation Accuracy: 0.330000\n",
      "Epoch 23, CIFAR-10 Batch 1:  Loss:     0.8639 Validation Accuracy: 0.329000\n",
      "Epoch 24, CIFAR-10 Batch 1:  Loss:     0.8879 Validation Accuracy: 0.406000\n",
      "Epoch 25, CIFAR-10 Batch 1:  Loss:     0.9630 Validation Accuracy: 0.400000\n",
      "Epoch 26, CIFAR-10 Batch 1:  Loss:     0.9274 Validation Accuracy: 0.375000\n",
      "Epoch 27, CIFAR-10 Batch 1:  Loss:     0.8469 Validation Accuracy: 0.366000\n",
      "Epoch 28, CIFAR-10 Batch 1:  Loss:     0.8067 Validation Accuracy: 0.383000\n",
      "Epoch 29, CIFAR-10 Batch 1:  Loss:     0.7709 Validation Accuracy: 0.367000\n",
      "Epoch 30, CIFAR-10 Batch 1:  Loss:     0.7098 Validation Accuracy: 0.398000\n"
     ]
    }
   ],
   "source": [
    "\"\"\"\n",
    "DON'T MODIFY ANYTHING IN THIS CELL\n",
    "\"\"\"\n",
    "print('Checking the Training on a Single Batch...')\n",
    "with tf.Session() as sess:\n",
    "    # Initializing the variables\n",
    "    sess.run(tf.global_variables_initializer())\n",
    "    \n",
    "    # Training cycle\n",
    "    for epoch in range(epochs):\n",
    "        batch_i = 1\n",
    "        for batch_features, batch_labels in helper.load_preprocess_training_batch(batch_i, batch_size):\n",
    "            train_neural_network(sess, optimizer, keep_probability, batch_features, batch_labels)\n",
    "        print('Epoch {:>2}, CIFAR-10 Batch {}:  '.format(epoch + 1, batch_i), end='')\n",
    "        print_stats(sess, batch_features, batch_labels, cost, accuracy)"
   ]
  },
  {
   "cell_type": "markdown",
   "metadata": {},
   "source": [
    "### Fully Train the Model\n",
    "Now that you got a good accuracy with a single CIFAR-10 batch, try it with all five batches."
   ]
  },
  {
   "cell_type": "code",
   "execution_count": 136,
   "metadata": {},
   "outputs": [
    {
     "name": "stdout",
     "output_type": "stream",
     "text": [
      "Training...\n",
      "Epoch  1, CIFAR-10 Batch 1:  Loss:     2.6080 Validation Accuracy: 0.115000\n",
      "Epoch  1, CIFAR-10 Batch 2:  Loss:     2.0872 Validation Accuracy: 0.152000\n",
      "Epoch  1, CIFAR-10 Batch 3:  Loss:     1.8650 Validation Accuracy: 0.189000\n",
      "Epoch  1, CIFAR-10 Batch 4:  Loss:     2.0298 Validation Accuracy: 0.203000\n",
      "Epoch  1, CIFAR-10 Batch 5:  Loss:     1.9857 Validation Accuracy: 0.214000\n",
      "Epoch  2, CIFAR-10 Batch 1:  Loss:     2.2432 Validation Accuracy: 0.222000\n",
      "Epoch  2, CIFAR-10 Batch 2:  Loss:     1.9733 Validation Accuracy: 0.215000\n",
      "Epoch  2, CIFAR-10 Batch 3:  Loss:     1.7818 Validation Accuracy: 0.196000\n",
      "Epoch  2, CIFAR-10 Batch 4:  Loss:     1.9805 Validation Accuracy: 0.233000\n",
      "Epoch  2, CIFAR-10 Batch 5:  Loss:     1.8781 Validation Accuracy: 0.221000\n",
      "Epoch  3, CIFAR-10 Batch 1:  Loss:     2.0837 Validation Accuracy: 0.241000\n",
      "Epoch  3, CIFAR-10 Batch 2:  Loss:     1.7397 Validation Accuracy: 0.271000\n",
      "Epoch  3, CIFAR-10 Batch 3:  Loss:     1.4618 Validation Accuracy: 0.295000\n",
      "Epoch  3, CIFAR-10 Batch 4:  Loss:     1.7217 Validation Accuracy: 0.315000\n",
      "Epoch  3, CIFAR-10 Batch 5:  Loss:     1.5805 Validation Accuracy: 0.329000\n",
      "Epoch  4, CIFAR-10 Batch 1:  Loss:     1.7690 Validation Accuracy: 0.338000\n",
      "Epoch  4, CIFAR-10 Batch 2:  Loss:     1.3970 Validation Accuracy: 0.331000\n",
      "Epoch  4, CIFAR-10 Batch 3:  Loss:     1.1720 Validation Accuracy: 0.382000\n",
      "Epoch  4, CIFAR-10 Batch 4:  Loss:     1.5737 Validation Accuracy: 0.397000\n",
      "Epoch  4, CIFAR-10 Batch 5:  Loss:     1.3536 Validation Accuracy: 0.373000\n",
      "Epoch  5, CIFAR-10 Batch 1:  Loss:     1.5955 Validation Accuracy: 0.396000\n",
      "Epoch  5, CIFAR-10 Batch 2:  Loss:     1.2762 Validation Accuracy: 0.400000\n",
      "Epoch  5, CIFAR-10 Batch 3:  Loss:     1.0430 Validation Accuracy: 0.373000\n",
      "Epoch  5, CIFAR-10 Batch 4:  Loss:     1.4794 Validation Accuracy: 0.410000\n",
      "Epoch  5, CIFAR-10 Batch 5:  Loss:     1.2379 Validation Accuracy: 0.371000\n",
      "Epoch  6, CIFAR-10 Batch 1:  Loss:     1.5177 Validation Accuracy: 0.386000\n",
      "Epoch  6, CIFAR-10 Batch 2:  Loss:     1.1768 Validation Accuracy: 0.405000\n",
      "Epoch  6, CIFAR-10 Batch 3:  Loss:     0.9628 Validation Accuracy: 0.385000\n",
      "Epoch  6, CIFAR-10 Batch 4:  Loss:     1.4214 Validation Accuracy: 0.415000\n",
      "Epoch  6, CIFAR-10 Batch 5:  Loss:     1.1552 Validation Accuracy: 0.362000\n",
      "Epoch  7, CIFAR-10 Batch 1:  Loss:     1.4086 Validation Accuracy: 0.385000\n",
      "Epoch  7, CIFAR-10 Batch 2:  Loss:     1.1212 Validation Accuracy: 0.411000\n",
      "Epoch  7, CIFAR-10 Batch 3:  Loss:     0.9620 Validation Accuracy: 0.393000\n",
      "Epoch  7, CIFAR-10 Batch 4:  Loss:     1.3617 Validation Accuracy: 0.412000\n",
      "Epoch  7, CIFAR-10 Batch 5:  Loss:     1.0804 Validation Accuracy: 0.361000\n",
      "Epoch  8, CIFAR-10 Batch 1:  Loss:     1.2770 Validation Accuracy: 0.393000\n",
      "Epoch  8, CIFAR-10 Batch 2:  Loss:     1.0836 Validation Accuracy: 0.413000\n",
      "Epoch  8, CIFAR-10 Batch 3:  Loss:     0.8855 Validation Accuracy: 0.394000\n",
      "Epoch  8, CIFAR-10 Batch 4:  Loss:     1.2626 Validation Accuracy: 0.415000\n",
      "Epoch  8, CIFAR-10 Batch 5:  Loss:     1.0271 Validation Accuracy: 0.377000\n",
      "Epoch  9, CIFAR-10 Batch 1:  Loss:     1.1913 Validation Accuracy: 0.384000\n",
      "Epoch  9, CIFAR-10 Batch 2:  Loss:     1.0091 Validation Accuracy: 0.406000\n",
      "Epoch  9, CIFAR-10 Batch 3:  Loss:     0.8146 Validation Accuracy: 0.400000\n",
      "Epoch  9, CIFAR-10 Batch 4:  Loss:     1.1956 Validation Accuracy: 0.422000\n",
      "Epoch  9, CIFAR-10 Batch 5:  Loss:     1.0041 Validation Accuracy: 0.383000\n",
      "Epoch 10, CIFAR-10 Batch 1:  Loss:     1.1037 Validation Accuracy: 0.398000\n",
      "Epoch 10, CIFAR-10 Batch 2:  Loss:     0.8872 Validation Accuracy: 0.409000\n",
      "Epoch 10, CIFAR-10 Batch 3:  Loss:     0.7601 Validation Accuracy: 0.413000\n",
      "Epoch 10, CIFAR-10 Batch 4:  Loss:     1.1065 Validation Accuracy: 0.454000\n",
      "Epoch 10, CIFAR-10 Batch 5:  Loss:     0.9236 Validation Accuracy: 0.416000\n",
      "Epoch 11, CIFAR-10 Batch 1:  Loss:     1.0254 Validation Accuracy: 0.444000\n",
      "Epoch 11, CIFAR-10 Batch 2:  Loss:     0.7063 Validation Accuracy: 0.497000\n",
      "Epoch 11, CIFAR-10 Batch 3:  Loss:     0.6239 Validation Accuracy: 0.522000\n",
      "Epoch 11, CIFAR-10 Batch 4:  Loss:     0.8876 Validation Accuracy: 0.559000\n",
      "Epoch 11, CIFAR-10 Batch 5:  Loss:     0.7291 Validation Accuracy: 0.527000\n",
      "Epoch 12, CIFAR-10 Batch 1:  Loss:     0.7701 Validation Accuracy: 0.525000\n",
      "Epoch 12, CIFAR-10 Batch 2:  Loss:     0.5838 Validation Accuracy: 0.550000\n",
      "Epoch 12, CIFAR-10 Batch 3:  Loss:     0.5223 Validation Accuracy: 0.537000\n",
      "Epoch 12, CIFAR-10 Batch 4:  Loss:     0.7198 Validation Accuracy: 0.568000\n",
      "Epoch 12, CIFAR-10 Batch 5:  Loss:     0.5731 Validation Accuracy: 0.552000\n",
      "Epoch 13, CIFAR-10 Batch 1:  Loss:     0.7812 Validation Accuracy: 0.459000\n",
      "Epoch 13, CIFAR-10 Batch 2:  Loss:     0.5299 Validation Accuracy: 0.562000\n",
      "Epoch 13, CIFAR-10 Batch 3:  Loss:     0.3814 Validation Accuracy: 0.555000\n",
      "Epoch 13, CIFAR-10 Batch 4:  Loss:     0.5328 Validation Accuracy: 0.554000\n",
      "Epoch 13, CIFAR-10 Batch 5:  Loss:     0.4409 Validation Accuracy: 0.577000\n",
      "Epoch 14, CIFAR-10 Batch 1:  Loss:     0.5552 Validation Accuracy: 0.536000\n",
      "Epoch 14, CIFAR-10 Batch 2:  Loss:     0.3608 Validation Accuracy: 0.549000\n",
      "Epoch 14, CIFAR-10 Batch 3:  Loss:     0.2435 Validation Accuracy: 0.574000\n",
      "Epoch 14, CIFAR-10 Batch 4:  Loss:     0.4436 Validation Accuracy: 0.573000\n",
      "Epoch 14, CIFAR-10 Batch 5:  Loss:     0.3419 Validation Accuracy: 0.580000\n",
      "Epoch 15, CIFAR-10 Batch 1:  Loss:     0.4411 Validation Accuracy: 0.569000\n",
      "Epoch 15, CIFAR-10 Batch 2:  Loss:     0.3123 Validation Accuracy: 0.564000\n",
      "Epoch 15, CIFAR-10 Batch 3:  Loss:     0.1856 Validation Accuracy: 0.577000\n",
      "Epoch 15, CIFAR-10 Batch 4:  Loss:     0.3628 Validation Accuracy: 0.577000\n",
      "Epoch 15, CIFAR-10 Batch 5:  Loss:     0.3120 Validation Accuracy: 0.587000\n",
      "Epoch 16, CIFAR-10 Batch 1:  Loss:     0.2989 Validation Accuracy: 0.593000\n",
      "Epoch 16, CIFAR-10 Batch 2:  Loss:     0.3215 Validation Accuracy: 0.543000\n",
      "Epoch 16, CIFAR-10 Batch 3:  Loss:     0.1394 Validation Accuracy: 0.578000\n",
      "Epoch 16, CIFAR-10 Batch 4:  Loss:     0.3273 Validation Accuracy: 0.561000\n",
      "Epoch 16, CIFAR-10 Batch 5:  Loss:     0.2757 Validation Accuracy: 0.580000\n",
      "Epoch 17, CIFAR-10 Batch 1:  Loss:     0.3157 Validation Accuracy: 0.588000\n",
      "Epoch 17, CIFAR-10 Batch 2:  Loss:     0.2727 Validation Accuracy: 0.544000\n",
      "Epoch 17, CIFAR-10 Batch 3:  Loss:     0.1374 Validation Accuracy: 0.577000\n",
      "Epoch 17, CIFAR-10 Batch 4:  Loss:     0.3164 Validation Accuracy: 0.595000\n",
      "Epoch 17, CIFAR-10 Batch 5:  Loss:     0.2764 Validation Accuracy: 0.556000\n",
      "Epoch 18, CIFAR-10 Batch 1:  Loss:     0.3004 Validation Accuracy: 0.582000\n",
      "Epoch 18, CIFAR-10 Batch 2:  Loss:     0.2089 Validation Accuracy: 0.562000\n",
      "Epoch 18, CIFAR-10 Batch 3:  Loss:     0.1249 Validation Accuracy: 0.574000\n",
      "Epoch 18, CIFAR-10 Batch 4:  Loss:     0.3209 Validation Accuracy: 0.590000\n",
      "Epoch 18, CIFAR-10 Batch 5:  Loss:     0.1892 Validation Accuracy: 0.570000\n",
      "Epoch 19, CIFAR-10 Batch 1:  Loss:     0.2892 Validation Accuracy: 0.572000\n",
      "Epoch 19, CIFAR-10 Batch 2:  Loss:     0.2160 Validation Accuracy: 0.587000\n",
      "Epoch 19, CIFAR-10 Batch 3:  Loss:     0.1353 Validation Accuracy: 0.547000\n",
      "Epoch 19, CIFAR-10 Batch 4:  Loss:     0.2820 Validation Accuracy: 0.606000\n",
      "Epoch 19, CIFAR-10 Batch 5:  Loss:     0.1668 Validation Accuracy: 0.576000\n",
      "Epoch 20, CIFAR-10 Batch 1:  Loss:     0.2438 Validation Accuracy: 0.596000\n",
      "Epoch 20, CIFAR-10 Batch 2:  Loss:     0.2166 Validation Accuracy: 0.603000\n",
      "Epoch 20, CIFAR-10 Batch 3:  Loss:     0.0872 Validation Accuracy: 0.568000\n",
      "Epoch 20, CIFAR-10 Batch 4:  Loss:     0.3055 Validation Accuracy: 0.604000\n",
      "Epoch 20, CIFAR-10 Batch 5:  Loss:     0.1301 Validation Accuracy: 0.579000\n",
      "Epoch 21, CIFAR-10 Batch 1:  Loss:     0.1856 Validation Accuracy: 0.577000\n",
      "Epoch 21, CIFAR-10 Batch 2:  Loss:     0.1791 Validation Accuracy: 0.573000\n",
      "Epoch 21, CIFAR-10 Batch 3:  Loss:     0.0693 Validation Accuracy: 0.586000\n",
      "Epoch 21, CIFAR-10 Batch 4:  Loss:     0.2545 Validation Accuracy: 0.586000\n",
      "Epoch 21, CIFAR-10 Batch 5:  Loss:     0.1229 Validation Accuracy: 0.587000\n",
      "Epoch 22, CIFAR-10 Batch 1:  Loss:     0.1782 Validation Accuracy: 0.597000\n",
      "Epoch 22, CIFAR-10 Batch 2:  Loss:     0.1183 Validation Accuracy: 0.587000\n",
      "Epoch 22, CIFAR-10 Batch 3:  Loss:     0.0620 Validation Accuracy: 0.574000\n"
     ]
    },
    {
     "name": "stdout",
     "output_type": "stream",
     "text": [
      "Epoch 22, CIFAR-10 Batch 4:  Loss:     0.2079 Validation Accuracy: 0.574000\n",
      "Epoch 22, CIFAR-10 Batch 5:  Loss:     0.0801 Validation Accuracy: 0.592000\n",
      "Epoch 23, CIFAR-10 Batch 1:  Loss:     0.1593 Validation Accuracy: 0.569000\n",
      "Epoch 23, CIFAR-10 Batch 2:  Loss:     0.1002 Validation Accuracy: 0.575000\n",
      "Epoch 23, CIFAR-10 Batch 3:  Loss:     0.0678 Validation Accuracy: 0.564000\n",
      "Epoch 23, CIFAR-10 Batch 4:  Loss:     0.2008 Validation Accuracy: 0.591000\n",
      "Epoch 23, CIFAR-10 Batch 5:  Loss:     0.0873 Validation Accuracy: 0.602000\n",
      "Epoch 24, CIFAR-10 Batch 1:  Loss:     0.1242 Validation Accuracy: 0.575000\n",
      "Epoch 24, CIFAR-10 Batch 2:  Loss:     0.0879 Validation Accuracy: 0.541000\n",
      "Epoch 24, CIFAR-10 Batch 3:  Loss:     0.0388 Validation Accuracy: 0.584000\n",
      "Epoch 24, CIFAR-10 Batch 4:  Loss:     0.1690 Validation Accuracy: 0.576000\n",
      "Epoch 24, CIFAR-10 Batch 5:  Loss:     0.0819 Validation Accuracy: 0.589000\n",
      "Epoch 25, CIFAR-10 Batch 1:  Loss:     0.1465 Validation Accuracy: 0.570000\n",
      "Epoch 25, CIFAR-10 Batch 2:  Loss:     0.0978 Validation Accuracy: 0.569000\n",
      "Epoch 25, CIFAR-10 Batch 3:  Loss:     0.0395 Validation Accuracy: 0.598000\n",
      "Epoch 25, CIFAR-10 Batch 4:  Loss:     0.2378 Validation Accuracy: 0.588000\n",
      "Epoch 25, CIFAR-10 Batch 5:  Loss:     0.0709 Validation Accuracy: 0.599000\n",
      "Epoch 26, CIFAR-10 Batch 1:  Loss:     0.1125 Validation Accuracy: 0.593000\n",
      "Epoch 26, CIFAR-10 Batch 2:  Loss:     0.0765 Validation Accuracy: 0.572000\n",
      "Epoch 26, CIFAR-10 Batch 3:  Loss:     0.0482 Validation Accuracy: 0.574000\n",
      "Epoch 26, CIFAR-10 Batch 4:  Loss:     0.1792 Validation Accuracy: 0.589000\n",
      "Epoch 26, CIFAR-10 Batch 5:  Loss:     0.0879 Validation Accuracy: 0.586000\n",
      "Epoch 27, CIFAR-10 Batch 1:  Loss:     0.1356 Validation Accuracy: 0.564000\n",
      "Epoch 27, CIFAR-10 Batch 2:  Loss:     0.0702 Validation Accuracy: 0.593000\n",
      "Epoch 27, CIFAR-10 Batch 3:  Loss:     0.0184 Validation Accuracy: 0.581000\n",
      "Epoch 27, CIFAR-10 Batch 4:  Loss:     0.1906 Validation Accuracy: 0.592000\n",
      "Epoch 27, CIFAR-10 Batch 5:  Loss:     0.0914 Validation Accuracy: 0.576000\n",
      "Epoch 28, CIFAR-10 Batch 1:  Loss:     0.1067 Validation Accuracy: 0.578000\n",
      "Epoch 28, CIFAR-10 Batch 2:  Loss:     0.0752 Validation Accuracy: 0.584000\n",
      "Epoch 28, CIFAR-10 Batch 3:  Loss:     0.0423 Validation Accuracy: 0.575000\n",
      "Epoch 28, CIFAR-10 Batch 4:  Loss:     0.1764 Validation Accuracy: 0.612000\n",
      "Epoch 28, CIFAR-10 Batch 5:  Loss:     0.0955 Validation Accuracy: 0.570000\n",
      "Epoch 29, CIFAR-10 Batch 1:  Loss:     0.1038 Validation Accuracy: 0.595000\n",
      "Epoch 29, CIFAR-10 Batch 2:  Loss:     0.0693 Validation Accuracy: 0.576000\n",
      "Epoch 29, CIFAR-10 Batch 3:  Loss:     0.0296 Validation Accuracy: 0.591000\n",
      "Epoch 29, CIFAR-10 Batch 4:  Loss:     0.1223 Validation Accuracy: 0.580000\n",
      "Epoch 29, CIFAR-10 Batch 5:  Loss:     0.0662 Validation Accuracy: 0.569000\n",
      "Epoch 30, CIFAR-10 Batch 1:  Loss:     0.1038 Validation Accuracy: 0.600000\n",
      "Epoch 30, CIFAR-10 Batch 2:  Loss:     0.1906 Validation Accuracy: 0.561000\n",
      "Epoch 30, CIFAR-10 Batch 3:  Loss:     0.0117 Validation Accuracy: 0.581000\n",
      "Epoch 30, CIFAR-10 Batch 4:  Loss:     0.0945 Validation Accuracy: 0.579000\n",
      "Epoch 30, CIFAR-10 Batch 5:  Loss:     0.1003 Validation Accuracy: 0.582000\n"
     ]
    }
   ],
   "source": [
    "\"\"\"\n",
    "DON'T MODIFY ANYTHING IN THIS CELL\n",
    "\"\"\"\n",
    "save_model_path = './image_classification'\n",
    "\n",
    "print('Training...')\n",
    "with tf.Session() as sess:\n",
    "    # Initializing the variables\n",
    "    sess.run(tf.global_variables_initializer())\n",
    "    \n",
    "    # Training cycle\n",
    "    for epoch in range(epochs):\n",
    "        # Loop over all batches\n",
    "        n_batches = 5\n",
    "        for batch_i in range(1, n_batches + 1):\n",
    "            for batch_features, batch_labels in helper.load_preprocess_training_batch(batch_i, batch_size):\n",
    "                train_neural_network(sess, optimizer, keep_probability, batch_features, batch_labels)\n",
    "            print('Epoch {:>2}, CIFAR-10 Batch {}:  '.format(epoch + 1, batch_i), end='')\n",
    "            print_stats(sess, batch_features, batch_labels, cost, accuracy)\n",
    "            \n",
    "    # Save Model\n",
    "    saver = tf.train.Saver()\n",
    "    save_path = saver.save(sess, save_model_path)"
   ]
  },
  {
   "cell_type": "markdown",
   "metadata": {},
   "source": [
    "# Checkpoint\n",
    "The model has been saved to disk.\n",
    "## Test Model\n",
    "Test your model against the test dataset.  This will be your final accuracy. You should have an accuracy greater than 50%. If you don't, keep tweaking the model architecture and parameters."
   ]
  },
  {
   "cell_type": "code",
   "execution_count": 138,
   "metadata": {},
   "outputs": [
    {
     "name": "stdout",
     "output_type": "stream",
     "text": [
      "INFO:tensorflow:Restoring parameters from ./image_classification\n",
      "Testing Accuracy: 0.5702136075949367\n",
      "\n"
     ]
    },
    {
     "data": {
      "image/png": "[encoded data removed]",
      "text/plain": [
       "<matplotlib.figure.Figure at 0x7f6b1b14d828>"
      ]
     },
     "metadata": {
      "image/png": {
       "height": 319,
       "width": 355
      }
     },
     "output_type": "display_data"
    }
   ],
   "source": [
    "\"\"\"\n",
    "DON'T MODIFY ANYTHING IN THIS CELL\n",
    "\"\"\"\n",
    "%matplotlib inline\n",
    "%config InlineBackend.figure_format = 'retina'\n",
    "\n",
    "import tensorflow as tf\n",
    "import pickle\n",
    "import helper\n",
    "import random\n",
    "\n",
    "# Set batch size if not already set\n",
    "try:\n",
    "    if batch_size:\n",
    "        pass\n",
    "except NameError:\n",
    "    batch_size = 64\n",
    "\n",
    "save_model_path = './image_classification'\n",
    "n_samples = 4\n",
    "top_n_predictions = 3\n",
    "\n",
    "def test_model():\n",
    "    \"\"\"\n",
    "    Test the saved model against the test dataset\n",
    "    \"\"\"\n",
    "\n",
    "    test_features, test_labels = pickle.load(open('preprocess_test.p', mode='rb'))\n",
    "    loaded_graph = tf.Graph()\n",
    "\n",
    "    with tf.Session(graph=loaded_graph) as sess:\n",
    "        # Load model\n",
    "        loader = tf.train.import_meta_graph(save_model_path + '.meta')\n",
    "        loader.restore(sess, save_model_path)\n",
    "\n",
    "        # Get Tensors from loaded model\n",
    "        loaded_x = loaded_graph.get_tensor_by_name('x:0')\n",
    "        loaded_y = loaded_graph.get_tensor_by_name('y:0')\n",
    "        loaded_keep_prob = loaded_graph.get_tensor_by_name('keep_prob:0')\n",
    "        loaded_logits = loaded_graph.get_tensor_by_name('logits:0')\n",
    "        loaded_acc = loaded_graph.get_tensor_by_name('accuracy:0')\n",
    "        \n",
    "        # Get accuracy in batches for memory limitations\n",
    "        test_batch_acc_total = 0\n",
    "        test_batch_count = 0\n",
    "        \n",
    "        for test_feature_batch, test_label_batch in helper.batch_features_labels(test_features, test_labels, batch_size):\n",
    "            test_batch_acc_total += sess.run(\n",
    "                loaded_acc,\n",
    "                feed_dict={loaded_x: test_feature_batch, loaded_y: test_label_batch, loaded_keep_prob: 1.0})\n",
    "            test_batch_count += 1\n",
    "\n",
    "        print('Testing Accuracy: {}\\n'.format(test_batch_acc_total/test_batch_count))\n",
    "\n",
    "        # Print Random Samples\n",
    "        random_test_features, random_test_labels = tuple(zip(*random.sample(list(zip(test_features, test_labels)), n_samples)))\n",
    "        random_test_predictions = sess.run(\n",
    "            tf.nn.top_k(tf.nn.softmax(loaded_logits), top_n_predictions),\n",
    "            feed_dict={loaded_x: random_test_features, loaded_y: random_test_labels, loaded_keep_prob: 1.0})\n",
    "        helper.display_image_predictions(random_test_features, random_test_labels, random_test_predictions)\n",
    "\n",
    "\n",
    "test_model()"
   ]
  },
  {
   "cell_type": "markdown",
   "metadata": {},
   "source": [
    "## Why 50-80% Accuracy?\n",
    "You might be wondering why you can't get an accuracy any higher. First things first, 50% isn't bad for a simple CNN.  Pure guessing would get you 10% accuracy. However, you might notice people are getting scores [well above 80%](http://rodrigob.github.io/are_we_there_yet/build/classification_datasets_results.html#43494641522d3130).  That's because we haven't taught you all there is to know about neural networks. We still need to cover a few more techniques.\n",
    "## Submitting This Project\n",
    "When submitting this project, make sure to run all the cells before saving the notebook.  Save the notebook file as \"dlnd_image_classification.ipynb\" and save it as a HTML file under \"File\" -> \"Download as\".  Include the \"helper.py\" and \"problem_unittests.py\" files in your submission."
   ]
  },
  {
   "cell_type": "code",
   "execution_count": null,
   "metadata": {},
   "outputs": [],
   "source": []
  }
 ],
 "metadata": {
  "kernelspec": {
   "display_name": "Python 3",
   "language": "python",
   "name": "python3"
  },
  "language_info": {
   "codemirror_mode": {
    "name": "ipython",
    "version": 3
   },
   "file_extension": ".py",
   "mimetype": "text/x-python",
   "name": "python",
   "nbconvert_exporter": "python",
   "pygments_lexer": "ipython3",
   "version": "3.6.3"
  }
 },
 "nbformat": 4,
 "nbformat_minor": 1
}
